{
  "nbformat": 4,
  "nbformat_minor": 0,
  "metadata": {
    "colab": {
      "provenance": [],
      "authorship_tag": "ABX9TyNS5QZINTxvYB8gtbNEOGBy",
      "include_colab_link": true
    },
    "kernelspec": {
      "name": "python3",
      "display_name": "Python 3"
    },
    "language_info": {
      "name": "python"
    }
  },
  "cells": [
    {
      "cell_type": "markdown",
      "metadata": {
        "id": "view-in-github",
        "colab_type": "text"
      },
      "source": [
        "<a href=\"https://colab.research.google.com/github/vinaybist/SecurityRequirement/blob/main/SecurityRequirement.ipynb\" target=\"_parent\"><img src=\"https://colab.research.google.com/assets/colab-badge.svg\" alt=\"Open In Colab\"/></a>"
      ]
    },
    {
      "cell_type": "markdown",
      "source": [
        "#**Categorization, Prioritization, and Summarization of Security Vulnerabilities or Weaknesses**\n",
        "\n",
        "A system leveraging SecureBERT to analyze security vulnerabilities by:\n",
        "\n",
        "- Categorizing the type of vulnerability\n",
        "- Assigning priority levels\n",
        "- Providing structured analysis of security weaknesses"
      ],
      "metadata": {
        "id": "1dZNQs6iGydI"
      }
    },
    {
      "cell_type": "code",
      "source": [
        "!pip install datasets"
      ],
      "metadata": {
        "id": "yeIzrKrTedhS"
      },
      "execution_count": 37,
      "outputs": []
    },
    {
      "cell_type": "code",
      "source": [
        "import pandas as pd\n",
        "import random\n",
        "\n",
        "# Create sample security findings\n",
        "security_data = {\n",
        "    'ID': [],\n",
        "    'Description': [],\n",
        "    'Priority': [],\n",
        "    'Category': []\n",
        "}\n",
        "\n",
        "# Sample descriptions\n",
        "descriptions = [\n",
        "    \"SQL injection vulnerability found in login form allowing unauthorized database access\",\n",
        "    \"Weak password policy allows brute force attacks\",\n",
        "    \"Cross-site scripting (XSS) vulnerability in comment section\",\n",
        "    \"Sensitive data exposure through unencrypted transmission\",\n",
        "    \"Missing access controls in admin panel\",\n",
        "    \"Buffer overflow vulnerability in input validation\",\n",
        "    \"Outdated SSL certificate with known vulnerabilities\",\n",
        "    \"Insecure direct object references in API endpoints\",\n",
        "    \"Command injection vulnerability in file upload feature\",\n",
        "    \"Authentication bypass in password reset functionality\"\n",
        "]\n",
        "\n",
        "# Possible values\n",
        "priorities = ['HIGH', 'MEDIUM', 'LOW']\n",
        "categories = ['Injection', 'Authentication', 'Data Exposure', 'Access Control', 'Input Validation']\n",
        "\n",
        "# Generate 100 sample entries\n",
        "for i in range(100):\n",
        "    security_data['ID'].append(f'SEC-{str(i+1).zfill(3)}')\n",
        "    security_data['Description'].append(random.choice(descriptions))\n",
        "    security_data['Priority'].append(random.choice(priorities))\n",
        "    security_data['Category'].append(random.choice(categories))\n",
        "\n",
        "# Create DataFrame\n",
        "df = pd.DataFrame(security_data)\n",
        "\n",
        "# Save to CSV\n",
        "df.to_csv('security_findings.csv', index=False)\n",
        "\n",
        "# Display first few rows\n",
        "print(\"Sample of the dataset:\")\n",
        "print(df.head())\n",
        "\n",
        "# Display distribution of priorities and categories\n",
        "print(\"\\nDistribution of Priorities:\")\n",
        "print(df['Priority'].value_counts())\n",
        "print(\"\\nDistribution of Categories:\")\n",
        "print(df['Category'].value_counts())"
      ],
      "metadata": {
        "colab": {
          "base_uri": "https://localhost:8080/"
        },
        "id": "Q9uLVUlZG6Rp",
        "outputId": "0451c1a3-7576-4946-9d43-c4905895d400"
      },
      "execution_count": 2,
      "outputs": [
        {
          "output_type": "stream",
          "name": "stdout",
          "text": [
            "Sample of the dataset:\n",
            "        ID                                        Description Priority  \\\n",
            "0  SEC-001  Sensitive data exposure through unencrypted tr...      LOW   \n",
            "1  SEC-002  Cross-site scripting (XSS) vulnerability in co...     HIGH   \n",
            "2  SEC-003             Missing access controls in admin panel     HIGH   \n",
            "3  SEC-004  Sensitive data exposure through unencrypted tr...      LOW   \n",
            "4  SEC-005  Insecure direct object references in API endpo...      LOW   \n",
            "\n",
            "         Category  \n",
            "0  Authentication  \n",
            "1  Access Control  \n",
            "2  Access Control  \n",
            "3  Authentication  \n",
            "4  Authentication  \n",
            "\n",
            "Distribution of Priorities:\n",
            "Priority\n",
            "LOW       42\n",
            "HIGH      37\n",
            "MEDIUM    21\n",
            "Name: count, dtype: int64\n",
            "\n",
            "Distribution of Categories:\n",
            "Category\n",
            "Authentication      24\n",
            "Injection           22\n",
            "Data Exposure       21\n",
            "Input Validation    18\n",
            "Access Control      15\n",
            "Name: count, dtype: int64\n"
          ]
        }
      ]
    },
    {
      "cell_type": "code",
      "source": [
        "# prompt: data preprocessing to see the insight of it\n",
        "\n",
        "import pandas as pd\n",
        "\n",
        "# Load the dataset\n",
        "df = pd.read_csv('security_findings.csv')\n",
        "\n",
        "# Display basic statistics\n",
        "print(df.describe(include='all'))\n",
        "\n",
        "# Explore data types\n",
        "print(\"\\nData Types:\")\n",
        "print(df.dtypes)\n",
        "\n",
        "# Check for missing values\n",
        "print(\"\\nMissing Values:\")\n",
        "print(df.isnull().sum())\n",
        "\n",
        "# Analyze the 'Description' column (example)\n",
        "print(\"\\nDescription Column Analysis:\")\n",
        "print(df['Description'].value_counts())  # Count occurrences of each description\n",
        "# You can also explore word frequencies or other textual analysis techniques here\n",
        "\n",
        "# Further analysis based on Priority and Category\n",
        "print(\"\\nAnalysis by Priority:\")\n",
        "for priority in df['Priority'].unique():\n",
        "    print(f\"  Priority: {priority}\")\n",
        "    print(df[df['Priority'] == priority]['Category'].value_counts())\n",
        "\n",
        "print(\"\\nAnalysis by Category:\")\n",
        "for category in df['Category'].unique():\n",
        "    print(f\"  Category: {category}\")\n",
        "    print(df[df['Category'] == category]['Priority'].value_counts())"
      ],
      "metadata": {
        "colab": {
          "base_uri": "https://localhost:8080/"
        },
        "id": "R17im2V-HF9r",
        "outputId": "e9295bb1-b05c-42f4-b991-f19bad6750a5"
      },
      "execution_count": 3,
      "outputs": [
        {
          "output_type": "stream",
          "name": "stdout",
          "text": [
            "             ID                                        Description Priority  \\\n",
            "count       100                                                100      100   \n",
            "unique      100                                                 10        3   \n",
            "top     SEC-001  Cross-site scripting (XSS) vulnerability in co...      LOW   \n",
            "freq          1                                                 18       42   \n",
            "\n",
            "              Category  \n",
            "count              100  \n",
            "unique               5  \n",
            "top     Authentication  \n",
            "freq                24  \n",
            "\n",
            "Data Types:\n",
            "ID             object\n",
            "Description    object\n",
            "Priority       object\n",
            "Category       object\n",
            "dtype: object\n",
            "\n",
            "Missing Values:\n",
            "ID             0\n",
            "Description    0\n",
            "Priority       0\n",
            "Category       0\n",
            "dtype: int64\n",
            "\n",
            "Description Column Analysis:\n",
            "Description\n",
            "Cross-site scripting (XSS) vulnerability in comment section                              18\n",
            "Outdated SSL certificate with known vulnerabilities                                      14\n",
            "SQL injection vulnerability found in login form allowing unauthorized database access    14\n",
            "Authentication bypass in password reset functionality                                    11\n",
            "Missing access controls in admin panel                                                    9\n",
            "Insecure direct object references in API endpoints                                        9\n",
            "Sensitive data exposure through unencrypted transmission                                  7\n",
            "Weak password policy allows brute force attacks                                           7\n",
            "Command injection vulnerability in file upload feature                                    6\n",
            "Buffer overflow vulnerability in input validation                                         5\n",
            "Name: count, dtype: int64\n",
            "\n",
            "Analysis by Priority:\n",
            "  Priority: LOW\n",
            "Category\n",
            "Injection           11\n",
            "Data Exposure        9\n",
            "Authentication       8\n",
            "Input Validation     8\n",
            "Access Control       6\n",
            "Name: count, dtype: int64\n",
            "  Priority: HIGH\n",
            "Category\n",
            "Authentication      11\n",
            "Access Control       7\n",
            "Input Validation     7\n",
            "Injection            6\n",
            "Data Exposure        6\n",
            "Name: count, dtype: int64\n",
            "  Priority: MEDIUM\n",
            "Category\n",
            "Data Exposure       6\n",
            "Injection           5\n",
            "Authentication      5\n",
            "Input Validation    3\n",
            "Access Control      2\n",
            "Name: count, dtype: int64\n",
            "\n",
            "Analysis by Category:\n",
            "  Category: Authentication\n",
            "Priority\n",
            "HIGH      11\n",
            "LOW        8\n",
            "MEDIUM     5\n",
            "Name: count, dtype: int64\n",
            "  Category: Access Control\n",
            "Priority\n",
            "HIGH      7\n",
            "LOW       6\n",
            "MEDIUM    2\n",
            "Name: count, dtype: int64\n",
            "  Category: Input Validation\n",
            "Priority\n",
            "LOW       8\n",
            "HIGH      7\n",
            "MEDIUM    3\n",
            "Name: count, dtype: int64\n",
            "  Category: Injection\n",
            "Priority\n",
            "LOW       11\n",
            "HIGH       6\n",
            "MEDIUM     5\n",
            "Name: count, dtype: int64\n",
            "  Category: Data Exposure\n",
            "Priority\n",
            "LOW       9\n",
            "HIGH      6\n",
            "MEDIUM    6\n",
            "Name: count, dtype: int64\n"
          ]
        }
      ]
    },
    {
      "cell_type": "code",
      "source": [
        "# prompt: using bar chart as well\n",
        "\n",
        "import pandas as pd\n",
        "import matplotlib.pyplot as plt\n",
        "\n",
        "# Load the dataset (assuming it's already created and saved as 'security_findings.csv')\n",
        "df = pd.read_csv('security_findings.csv')\n",
        "\n",
        "# Bar chart for Priority distribution\n",
        "plt.figure(figsize=(8, 6))\n",
        "df['Priority'].value_counts().plot(kind='bar', color=['skyblue', 'lightcoral', 'lightgreen'])\n",
        "plt.title('Distribution of Security Finding Priorities')\n",
        "plt.xlabel('Priority Level')\n",
        "plt.ylabel('Number of Findings')\n",
        "plt.xticks(rotation=0)  # Rotate x-axis labels for better readability\n",
        "plt.show()\n",
        "\n",
        "\n",
        "# Bar chart for Category distribution\n",
        "plt.figure(figsize=(10, 6))\n",
        "df['Category'].value_counts().plot(kind='bar', color='salmon')\n",
        "plt.title('Distribution of Security Finding Categories')\n",
        "plt.xlabel('Category')\n",
        "plt.ylabel('Number of Findings')\n",
        "plt.xticks(rotation=45, ha='right') # Rotate x-axis labels for better readability\n",
        "plt.show()"
      ],
      "metadata": {
        "colab": {
          "base_uri": "https://localhost:8080/",
          "height": 1000
        },
        "id": "m9DeINiAHQow",
        "outputId": "4fb746a7-2a81-43be-82b9-20fd86fbf252"
      },
      "execution_count": 4,
      "outputs": [
        {
          "output_type": "display_data",
          "data": {
            "text/plain": [
              "<Figure size 800x600 with 1 Axes>"
            ],
            "image/png": "[encoded data removed]"
          },
          "metadata": {}
        },
        {
          "output_type": "display_data",
          "data": {
            "text/plain": [
              "<Figure size 1000x600 with 1 Axes>"
            ],
            "image/png": "[encoded data removed]"
          },
          "metadata": {}
        }
      ]
    },
    {
      "cell_type": "code",
      "source": [
        "# get the NLP model from https://github.com/ehsanaghaei/SecureBERT\n",
        "from transformers import RobertaTokenizer, RobertaModel\n",
        "import torch\n",
        "\n",
        "# need that for preprocessing of BERT arch\n",
        "tokenizer = RobertaTokenizer.from_pretrained(\"ehsanaghaei/SecureBERT\")\n",
        "#actual model\n",
        "model = RobertaModel.from_pretrained(\"ehsanaghaei/SecureBERT\")\n",
        "\n"
      ],
      "metadata": {
        "colab": {
          "base_uri": "https://localhost:8080/"
        },
        "id": "2Bnh2gMwH0A6",
        "outputId": "bd2311a8-1752-4d8e-fb9b-491652c235b4"
      },
      "execution_count": 5,
      "outputs": [
        {
          "output_type": "stream",
          "name": "stderr",
          "text": [
            "/usr/local/lib/python3.10/dist-packages/huggingface_hub/utils/_auth.py:94: UserWarning: \n",
            "The secret `HF_TOKEN` does not exist in your Colab secrets.\n",
            "To authenticate with the Hugging Face Hub, create a token in your settings tab (https://huggingface.co/settings/tokens), set it as secret in your Google Colab and restart your session.\n",
            "You will be able to reuse this secret in all of your notebooks.\n",
            "Please note that authentication is recommended but still optional to access public models or datasets.\n",
            "  warnings.warn(\n",
            "Some weights of RobertaModel were not initialized from the model checkpoint at ehsanaghaei/SecureBERT and are newly initialized: ['roberta.pooler.dense.bias', 'roberta.pooler.dense.weight']\n",
            "You should probably TRAIN this model on a down-stream task to be able to use it for predictions and inference.\n"
          ]
        }
      ]
    },
    {
      "cell_type": "code",
      "source": [
        "model"
      ],
      "metadata": {
        "colab": {
          "base_uri": "https://localhost:8080/"
        },
        "id": "A_F-4tCUIkDi",
        "outputId": "1d3ad0ab-0574-4535-c3d6-5859cf61e831"
      },
      "execution_count": 6,
      "outputs": [
        {
          "output_type": "execute_result",
          "data": {
            "text/plain": [
              "RobertaModel(\n",
              "  (embeddings): RobertaEmbeddings(\n",
              "    (word_embeddings): Embedding(50265, 768, padding_idx=1)\n",
              "    (position_embeddings): Embedding(514, 768, padding_idx=1)\n",
              "    (token_type_embeddings): Embedding(1, 768)\n",
              "    (LayerNorm): LayerNorm((768,), eps=1e-05, elementwise_affine=True)\n",
              "    (dropout): Dropout(p=0.1, inplace=False)\n",
              "  )\n",
              "  (encoder): RobertaEncoder(\n",
              "    (layer): ModuleList(\n",
              "      (0-11): 12 x RobertaLayer(\n",
              "        (attention): RobertaAttention(\n",
              "          (self): RobertaSdpaSelfAttention(\n",
              "            (query): Linear(in_features=768, out_features=768, bias=True)\n",
              "            (key): Linear(in_features=768, out_features=768, bias=True)\n",
              "            (value): Linear(in_features=768, out_features=768, bias=True)\n",
              "            (dropout): Dropout(p=0.1, inplace=False)\n",
              "          )\n",
              "          (output): RobertaSelfOutput(\n",
              "            (dense): Linear(in_features=768, out_features=768, bias=True)\n",
              "            (LayerNorm): LayerNorm((768,), eps=1e-05, elementwise_affine=True)\n",
              "            (dropout): Dropout(p=0.1, inplace=False)\n",
              "          )\n",
              "        )\n",
              "        (intermediate): RobertaIntermediate(\n",
              "          (dense): Linear(in_features=768, out_features=3072, bias=True)\n",
              "          (intermediate_act_fn): GELUActivation()\n",
              "        )\n",
              "        (output): RobertaOutput(\n",
              "          (dense): Linear(in_features=3072, out_features=768, bias=True)\n",
              "          (LayerNorm): LayerNorm((768,), eps=1e-05, elementwise_affine=True)\n",
              "          (dropout): Dropout(p=0.1, inplace=False)\n",
              "        )\n",
              "      )\n",
              "    )\n",
              "  )\n",
              "  (pooler): RobertaPooler(\n",
              "    (dense): Linear(in_features=768, out_features=768, bias=True)\n",
              "    (activation): Tanh()\n",
              "  )\n",
              ")"
            ]
          },
          "metadata": {},
          "execution_count": 6
        }
      ]
    },
    {
      "cell_type": "code",
      "source": [
        "#testing\n",
        "inputs = tokenizer(\"This is SecureBERT!\", return_tensors=\"pt\", padding=True, truncation=True)\n",
        "print(inputs.keys())\n",
        "inputs"
      ],
      "metadata": {
        "colab": {
          "base_uri": "https://localhost:8080/"
        },
        "id": "QBMxmJeSjmFU",
        "outputId": "d68c7b7f-68f0-4a38-cf34-e7b35e12a5b8"
      },
      "execution_count": 7,
      "outputs": [
        {
          "output_type": "stream",
          "name": "stdout",
          "text": [
            "dict_keys(['input_ids', 'attention_mask'])\n"
          ]
        },
        {
          "output_type": "execute_result",
          "data": {
            "text/plain": [
              "{'input_ids': tensor([[    0,   713,    16, 27443, 33362,   328,     2]]), 'attention_mask': tensor([[1, 1, 1, 1, 1, 1, 1]])}"
            ]
          },
          "metadata": {},
          "execution_count": 7
        }
      ]
    },
    {
      "cell_type": "code",
      "source": [
        "outputs = model(**inputs)\n",
        "print(outputs.keys())\n",
        "#last_hidden_states = outputs.last_hidden_state\n",
        "outputs"
      ],
      "metadata": {
        "colab": {
          "base_uri": "https://localhost:8080/"
        },
        "id": "oWiG9GeOOGmJ",
        "outputId": "4d5db960-f376-4d87-e864-929edb3a665d"
      },
      "execution_count": 8,
      "outputs": [
        {
          "output_type": "stream",
          "name": "stdout",
          "text": [
            "odict_keys(['last_hidden_state', 'pooler_output'])\n"
          ]
        },
        {
          "output_type": "execute_result",
          "data": {
            "text/plain": [
              "BaseModelOutputWithPoolingAndCrossAttentions(last_hidden_state=tensor([[[-0.0170,  0.0071, -0.0123,  ..., -0.0113, -0.0210,  0.0138],\n",
              "         [-0.0042, -0.0062,  0.0125,  ...,  0.0109,  0.0025,  0.0005],\n",
              "         [ 0.0239, -0.0095,  0.0105,  ..., -0.0918,  0.0059,  0.0537],\n",
              "         ...,\n",
              "         [ 0.0300, -0.0088, -0.0424,  ..., -0.0552,  0.0206,  0.0271],\n",
              "         [-0.0323, -0.0561, -0.0065,  ..., -0.0073,  0.0042, -0.0259],\n",
              "         [-0.0171,  0.0071, -0.0125,  ..., -0.0112, -0.0215,  0.0138]]],\n",
              "       grad_fn=<NativeLayerNormBackward0>), pooler_output=tensor([[-2.7570e-02,  3.6894e-04, -1.3198e-02, -5.6688e-02, -3.7237e-02,\n",
              "         -6.2236e-02,  1.6398e-02,  5.3022e-03, -4.0441e-02, -4.0545e-02,\n",
              "         -1.3973e-02,  3.5232e-02,  4.5962e-02, -3.4449e-02,  2.0586e-02,\n",
              "         -2.6051e-02, -1.1352e-02, -2.0004e-02, -1.9662e-02, -4.8768e-04,\n",
              "          2.7397e-02,  1.1607e-01,  1.2197e-02, -1.3974e-02, -2.2963e-03,\n",
              "         -1.7604e-02,  3.1118e-02,  8.7916e-04, -1.3762e-02, -3.2159e-02,\n",
              "         -1.4986e-02,  1.9800e-02,  1.0871e-02, -4.0228e-02,  2.6402e-02,\n",
              "          2.1920e-02, -6.8104e-03,  5.2739e-03, -1.8666e-02,  8.8758e-03,\n",
              "          5.7181e-02, -4.5447e-02, -2.7449e-02,  2.4049e-02,  5.4375e-03,\n",
              "          3.0741e-02, -1.6418e-02,  5.0222e-02,  4.4378e-02, -7.7869e-02,\n",
              "          7.2008e-02,  2.5494e-02,  1.1574e-02, -3.9109e-02,  3.6600e-02,\n",
              "          4.2387e-02, -3.3189e-03, -2.0442e-02,  4.8971e-02,  5.6536e-02,\n",
              "         -1.5077e-02, -1.4009e-02,  5.8777e-03,  3.7633e-02, -2.5719e-02,\n",
              "          1.8845e-02,  4.3792e-03, -6.0310e-03,  4.0819e-02,  4.0738e-02,\n",
              "         -1.4164e-02,  1.2152e-02, -1.7029e-02, -8.6905e-03, -1.6760e-02,\n",
              "          2.5607e-02,  1.8497e-02,  2.2749e-02,  1.6217e-04,  2.9909e-02,\n",
              "          3.2074e-02, -2.7459e-04, -1.7762e-02, -2.2091e-02, -2.3443e-02,\n",
              "          9.0330e-03,  2.5055e-02,  1.1781e-02, -8.4106e-02, -5.6155e-03,\n",
              "         -3.7918e-03,  2.3105e-02,  2.2176e-03,  2.7850e-02,  4.7176e-02,\n",
              "         -1.9806e-02, -4.3004e-02, -3.8001e-02,  7.1591e-03, -1.4035e-02,\n",
              "         -2.5688e-02,  3.5847e-02,  3.1371e-02,  1.6739e-03, -2.8482e-02,\n",
              "         -2.3976e-02,  4.8442e-03,  1.4002e-02, -1.8922e-04,  4.2993e-02,\n",
              "         -8.1294e-02,  4.2298e-02,  6.0608e-02,  3.9621e-02,  1.0871e-02,\n",
              "          1.6425e-03, -2.2659e-02, -1.9716e-03,  3.8644e-02,  1.4540e-02,\n",
              "          2.6468e-02,  1.6519e-03,  5.1811e-02, -2.1455e-02, -4.5898e-02,\n",
              "         -5.9637e-02,  7.8886e-03, -1.1770e-02, -4.3170e-02, -4.0148e-02,\n",
              "         -5.5791e-02, -1.0209e-02, -1.0734e-02,  1.4376e-02, -1.9309e-02,\n",
              "         -1.5210e-03,  8.5239e-03, -1.5517e-02,  4.7780e-02, -2.1946e-03,\n",
              "          2.6014e-02,  2.9953e-02,  5.3041e-02, -2.0455e-02, -4.7343e-02,\n",
              "         -7.5111e-02,  2.8140e-02,  6.3233e-02, -3.4239e-02, -6.0253e-02,\n",
              "         -4.6823e-03, -5.9456e-02,  2.1451e-02,  5.8173e-02,  1.2074e-02,\n",
              "         -1.3915e-02,  3.8478e-02, -1.1948e-02, -2.9578e-02, -7.0373e-02,\n",
              "          7.9245e-03,  2.1019e-02,  2.1295e-02, -6.6185e-02,  3.2979e-03,\n",
              "          1.6311e-02,  1.0499e-02,  1.5310e-02,  3.8537e-02,  8.9929e-03,\n",
              "          4.2653e-02, -1.9229e-02,  8.1919e-03,  1.5922e-02, -4.4419e-02,\n",
              "          5.1694e-02,  3.3118e-02, -5.4735e-02, -7.2030e-03, -3.2839e-02,\n",
              "         -2.3375e-02, -1.1072e-02, -4.8366e-02,  1.3155e-02,  7.0310e-03,\n",
              "         -4.0502e-03, -5.9776e-03, -2.7660e-02,  1.4956e-02,  2.2038e-02,\n",
              "         -2.5176e-02,  1.1968e-02, -8.6143e-03, -1.3347e-02, -7.3793e-02,\n",
              "          8.5470e-02,  1.9556e-02, -1.5489e-02,  7.8559e-03, -4.1128e-02,\n",
              "          1.5387e-02,  1.1142e-01,  8.2515e-03,  1.6120e-02,  2.4657e-02,\n",
              "          5.0931e-03, -1.2797e-02,  3.3100e-02, -3.1220e-02, -1.0904e-02,\n",
              "         -2.7105e-02,  7.5414e-02,  6.2909e-02, -6.6953e-02,  1.3077e-02,\n",
              "         -7.0954e-03, -3.2546e-04,  1.9062e-02, -1.1190e-02, -8.4210e-03,\n",
              "          3.8486e-02, -2.3503e-02,  2.0388e-02,  3.2942e-02,  1.6950e-02,\n",
              "         -6.5648e-03,  1.4466e-02, -3.6742e-02, -2.7736e-02, -6.3170e-02,\n",
              "         -2.4117e-03, -5.4096e-02, -1.0459e-02, -1.5816e-02, -7.7178e-02,\n",
              "          1.9679e-03, -3.7092e-02,  2.8827e-02,  3.3404e-02,  2.0374e-02,\n",
              "         -4.8661e-02,  7.1730e-03, -3.6892e-03, -6.6786e-02,  1.2989e-02,\n",
              "          2.3046e-02, -4.8693e-02,  3.0957e-02,  4.5275e-02, -5.5148e-03,\n",
              "          7.4198e-02,  8.2111e-04,  1.0135e-02, -9.5433e-03,  5.2986e-02,\n",
              "         -1.5337e-02,  5.1764e-02,  4.1639e-02, -5.5618e-02,  6.9379e-02,\n",
              "          6.1929e-02,  4.7468e-02, -8.7632e-02,  1.0113e-02,  8.9000e-02,\n",
              "          1.4098e-02, -9.2537e-03,  2.7439e-02, -8.8488e-02,  2.8152e-02,\n",
              "          2.8383e-02,  9.0701e-03, -1.7339e-02, -4.3703e-02, -3.1594e-02,\n",
              "         -2.7947e-02, -1.2813e-02,  6.3716e-02, -4.7209e-02,  1.3310e-02,\n",
              "          3.3620e-02, -3.8548e-02, -1.0345e-02, -1.2464e-02, -4.7275e-02,\n",
              "         -2.1929e-03, -1.7851e-02, -1.6621e-02, -2.1277e-02, -2.9305e-02,\n",
              "          3.9901e-02,  5.5705e-02,  1.3664e-02,  1.5190e-02,  4.4156e-02,\n",
              "         -6.5241e-02,  3.4641e-02,  1.7868e-02, -2.6123e-02,  5.0638e-02,\n",
              "          3.0801e-02, -6.0515e-03, -6.6462e-03,  8.2877e-03, -6.5140e-03,\n",
              "          1.0146e-01, -4.1013e-02,  2.8876e-02,  4.6629e-02, -1.6000e-02,\n",
              "          2.3842e-03,  8.3856e-04, -6.5725e-02,  4.9937e-02,  5.5192e-02,\n",
              "         -3.2298e-03, -4.8648e-04, -1.1839e-02,  1.1442e-02, -1.0168e-02,\n",
              "         -4.5925e-03,  1.2353e-02, -1.0707e-01, -4.9232e-02, -1.0188e-02,\n",
              "          7.8967e-02, -3.3940e-02, -4.7656e-02,  5.6018e-03, -1.7428e-02,\n",
              "         -1.5235e-02,  2.7812e-02,  7.8435e-02, -4.7072e-03, -1.9158e-02,\n",
              "          3.0028e-02, -1.2550e-02, -7.3513e-02, -3.9513e-02,  9.6572e-04,\n",
              "          4.2882e-02, -7.4237e-02, -3.7804e-02,  6.6931e-03,  1.1341e-03,\n",
              "         -1.6409e-02, -2.7541e-02, -4.4861e-03, -5.9852e-02, -8.4593e-03,\n",
              "         -3.4339e-02, -1.2785e-02, -3.2433e-02, -5.9341e-02,  3.5566e-02,\n",
              "         -7.6901e-02,  3.4813e-02,  5.0700e-02, -5.8741e-02, -8.8071e-03,\n",
              "          3.0087e-02,  5.3172e-02,  3.1118e-04,  3.7748e-02,  2.0958e-02,\n",
              "          2.9447e-02, -7.2646e-03, -1.4552e-02,  1.9919e-02,  8.5079e-02,\n",
              "          1.8895e-02,  3.5657e-03,  2.2548e-02, -1.4490e-03,  8.4119e-02,\n",
              "         -2.7337e-02, -7.9927e-02, -3.7078e-02,  2.9356e-02,  1.1329e-02,\n",
              "          2.9901e-02, -1.9197e-02,  1.7610e-02,  4.6455e-03, -5.4558e-02,\n",
              "         -4.9394e-02,  9.5894e-03, -2.8846e-02,  1.0004e-01,  3.3039e-03,\n",
              "          4.7607e-02,  5.6359e-02, -3.9092e-03, -4.6156e-03, -9.2117e-03,\n",
              "         -2.1881e-02, -3.7111e-02,  5.5524e-03, -6.6914e-02,  4.3244e-02,\n",
              "          3.4718e-02, -3.9975e-02, -4.1537e-02,  1.7175e-03,  1.3159e-03,\n",
              "          3.1585e-02,  3.4763e-02,  4.9698e-03,  2.7205e-02, -2.9865e-02,\n",
              "         -5.4174e-03,  1.5597e-02,  5.1802e-02, -3.5475e-02, -3.3594e-02,\n",
              "          2.9147e-02,  7.3623e-02,  2.8915e-02, -5.4222e-02,  1.7044e-02,\n",
              "         -8.9724e-03, -4.2076e-02,  5.1910e-02,  3.1235e-02,  1.1669e-02,\n",
              "         -2.4930e-02, -2.6961e-03, -1.8372e-02,  3.4047e-02, -5.4352e-03,\n",
              "          1.7373e-02,  3.2061e-02,  1.2195e-02, -3.0546e-03, -4.6704e-03,\n",
              "         -1.4311e-03,  1.5348e-02,  6.4259e-03, -2.3476e-02, -2.7911e-02,\n",
              "          3.4584e-02,  3.0473e-02, -5.9790e-02, -4.8279e-02,  1.0902e-01,\n",
              "          5.8627e-04,  4.2213e-02, -7.4202e-02,  1.0720e-02, -9.0176e-02,\n",
              "          1.1976e-02, -2.4192e-02,  3.2838e-02,  2.5696e-02, -2.5895e-02,\n",
              "         -1.5140e-03,  2.8204e-02, -1.6118e-02,  3.5341e-02,  1.5683e-03,\n",
              "         -4.0073e-02, -1.8047e-02, -1.0546e-02,  1.2847e-02,  3.2958e-02,\n",
              "          3.7930e-02,  2.1201e-02,  4.3213e-02, -1.4075e-02, -3.3147e-02,\n",
              "          4.1286e-02,  7.8660e-03,  1.5586e-02,  1.0073e-02,  5.1020e-02,\n",
              "         -9.4047e-02,  1.1840e-02, -1.1620e-02,  3.8231e-02, -8.6995e-03,\n",
              "         -4.6630e-02,  3.7682e-02, -7.3536e-04,  4.4953e-02, -5.6965e-02,\n",
              "          2.7160e-03, -5.1813e-02, -1.9676e-02,  1.6709e-02, -1.8586e-02,\n",
              "         -1.2258e-02,  1.5489e-02,  1.2863e-02, -2.0483e-02, -1.0955e-02,\n",
              "          6.9268e-02, -3.8472e-02,  2.2158e-02, -1.7089e-02, -1.8592e-03,\n",
              "         -7.4837e-03,  1.7988e-02, -2.2677e-02, -3.0127e-02,  6.0357e-02,\n",
              "          5.4816e-03,  1.3744e-02, -1.7195e-02,  5.8615e-03, -7.3087e-02,\n",
              "         -2.1642e-02,  6.7555e-02,  7.6774e-03, -7.9158e-02, -4.1500e-03,\n",
              "         -1.8970e-02, -3.6432e-02,  6.3000e-02, -6.1019e-02,  6.9208e-03,\n",
              "          2.3438e-02,  2.4583e-02,  2.5754e-02,  3.2805e-02, -1.4765e-02,\n",
              "          6.7803e-02,  2.0776e-02,  7.8199e-02, -3.3208e-02, -5.5775e-03,\n",
              "         -6.1023e-02,  3.8800e-02, -4.6434e-02,  8.5414e-02,  1.9083e-02,\n",
              "         -2.7436e-02, -5.5535e-03, -3.9908e-03, -2.7557e-02, -1.0509e-01,\n",
              "         -2.8405e-02, -1.4083e-02, -5.1288e-02,  3.8530e-02,  2.4731e-02,\n",
              "         -1.8921e-02,  2.4114e-02, -4.1774e-02,  3.1468e-02,  3.5023e-02,\n",
              "          7.3589e-03,  2.8612e-02,  4.7220e-03, -1.7715e-02,  5.9862e-02,\n",
              "          6.7663e-03,  2.6456e-02,  4.2219e-02,  2.4825e-02,  7.3088e-03,\n",
              "         -3.3513e-04, -2.5023e-02,  2.2321e-02,  1.5205e-02, -4.2848e-02,\n",
              "          4.5222e-02, -3.3591e-02, -9.3329e-02,  2.7469e-02,  2.2051e-02,\n",
              "         -2.5336e-02, -7.9754e-02,  4.2084e-02, -6.8486e-02, -2.3440e-02,\n",
              "          5.9753e-02, -2.8003e-02, -2.6817e-02, -6.6290e-02, -5.3331e-02,\n",
              "          6.6157e-03, -3.7294e-02, -5.7011e-02, -6.9848e-03,  7.3441e-03,\n",
              "          2.6643e-04, -6.3410e-02, -3.5029e-02,  1.5480e-02,  1.8179e-02,\n",
              "          8.2250e-02, -1.1938e-02,  3.7535e-02, -1.3457e-03,  2.6335e-02,\n",
              "          2.8356e-02, -3.2078e-02,  6.6945e-02,  4.6042e-02, -5.7362e-02,\n",
              "          7.1405e-04, -5.5138e-02,  3.2665e-02, -4.4424e-02, -1.0199e-03,\n",
              "          4.6214e-02,  1.0648e-02,  5.8788e-02,  6.4424e-02,  2.7592e-02,\n",
              "         -8.5209e-03, -8.7473e-04,  3.7524e-02, -3.6845e-02, -3.6756e-02,\n",
              "          2.1948e-02, -4.3539e-02,  1.7114e-02,  5.9610e-02,  9.6322e-03,\n",
              "         -1.3618e-02, -3.9308e-02,  4.5176e-02,  2.6740e-02,  7.2411e-03,\n",
              "          1.0462e-02,  3.4433e-02,  5.7473e-04, -2.5376e-02,  1.8097e-02,\n",
              "          2.6228e-02, -1.2841e-02, -1.9977e-02, -6.6556e-02,  4.7641e-03,\n",
              "         -7.9404e-02,  5.7119e-02, -2.4430e-02,  3.8241e-03, -2.9215e-03,\n",
              "          3.4130e-02, -3.2186e-02,  1.8729e-03, -2.4646e-02, -4.1075e-02,\n",
              "         -5.2962e-02, -1.2663e-03,  3.6234e-02,  1.0746e-02,  5.5498e-02,\n",
              "         -2.9901e-02, -1.0631e-02,  1.5495e-02, -7.6479e-03,  6.6855e-02,\n",
              "          1.5622e-02,  3.6067e-03, -4.6566e-03, -6.5191e-03,  7.3149e-03,\n",
              "          1.6710e-02,  3.9587e-02, -8.5182e-02, -1.4041e-02, -1.3278e-02,\n",
              "          2.2782e-02, -3.5653e-03, -2.0221e-03,  4.0813e-02, -2.1749e-02,\n",
              "         -1.7978e-02,  9.9192e-04,  2.3202e-02, -1.9994e-02, -1.1364e-02,\n",
              "         -2.6614e-02,  1.3989e-02, -3.9576e-02, -1.1661e-02, -1.8984e-02,\n",
              "         -3.7560e-02,  8.1989e-02, -2.0176e-03, -4.4240e-02, -2.0163e-02,\n",
              "         -3.9263e-03, -2.9103e-04,  3.9652e-02,  4.1659e-02,  2.9897e-02,\n",
              "          2.3884e-02, -1.2748e-02,  9.3045e-03, -5.6447e-03,  7.6413e-03,\n",
              "         -6.5107e-03,  2.7183e-02,  3.7467e-02, -1.0832e-03, -3.6703e-03,\n",
              "         -6.3797e-02,  2.6581e-02, -8.7253e-02,  2.0864e-02,  8.8242e-03,\n",
              "          3.9727e-03, -7.8831e-02,  1.5113e-02,  4.6688e-03,  2.7859e-02,\n",
              "          7.0735e-03,  1.6954e-02,  2.8765e-02,  6.9536e-02, -3.5507e-02,\n",
              "         -1.0838e-02, -5.1246e-02, -4.5640e-02, -2.5648e-02,  2.1908e-02,\n",
              "          5.5490e-02,  3.4960e-02, -1.3043e-02, -4.7550e-02, -3.0847e-02,\n",
              "          4.5099e-02,  3.2603e-04, -8.1546e-02,  1.7573e-02, -7.6379e-02,\n",
              "         -2.4208e-02, -1.8284e-02, -8.6582e-05, -2.6393e-02,  8.1738e-03,\n",
              "         -4.6663e-02,  3.0715e-04, -1.9276e-02, -5.2976e-02, -3.5133e-02,\n",
              "         -4.3733e-02,  7.0005e-03,  2.0220e-02, -5.0712e-02,  2.7019e-02,\n",
              "         -4.8336e-02, -5.2623e-02, -1.6853e-02,  1.6037e-02,  3.9581e-03,\n",
              "         -1.0410e-02, -2.8444e-03,  4.2216e-02, -2.3765e-02,  2.2137e-02,\n",
              "         -3.1269e-03,  4.1412e-02,  1.3031e-02,  2.4596e-02,  2.3299e-02,\n",
              "          1.7844e-02,  2.9061e-02, -6.5714e-03, -4.0555e-03, -1.2039e-03,\n",
              "          2.7826e-02,  2.0407e-03,  1.4156e-02]], grad_fn=<TanhBackward0>), hidden_states=None, past_key_values=None, attentions=None, cross_attentions=None)"
            ]
          },
          "metadata": {},
          "execution_count": 8
        }
      ]
    },
    {
      "cell_type": "code",
      "source": [
        "from sklearn.model_selection import train_test_split\n",
        "from sklearn.preprocessing import LabelEncoder\n",
        "import pandas as pd\n",
        "\n",
        "#Now work on dataset\n",
        "#load, check\n",
        "df = pd.read_csv(\"security_findings.csv\")\n",
        "print(\"Initial columns:\", df.columns.tolist())\n",
        "\n",
        "# encoders for results\n",
        "priority_encoder = LabelEncoder()\n",
        "category_encoder = LabelEncoder()\n",
        "\n",
        "df['priority_encoded'] = priority_encoder.fit_transform(df['Priority'])\n",
        "df['category_encoded'] = category_encoder.fit_transform(df['Category'])\n",
        "\n",
        "# split the data\n",
        "train_df, eval_df = train_test_split(df, test_size=0.2, random_state=42)\n",
        "\n",
        "# Verify split data has encoded columns\n",
        "print(\"\\nTraining data columns:\", train_df.columns.tolist())"
      ],
      "metadata": {
        "id": "b-qFCgOYPtMK"
      },
      "execution_count": null,
      "outputs": []
    },
    {
      "cell_type": "code",
      "source": [
        "train_df.head()"
      ],
      "metadata": {
        "colab": {
          "base_uri": "https://localhost:8080/",
          "height": 206
        },
        "id": "CGJ4xqrnTawF",
        "outputId": "3a4f2492-dfb4-4b03-e60f-c804d68145f8"
      },
      "execution_count": 10,
      "outputs": [
        {
          "output_type": "execute_result",
          "data": {
            "text/plain": [
              "         ID                                        Description Priority  \\\n",
              "55  SEC-056  Authentication bypass in password reset functi...      LOW   \n",
              "88  SEC-089  Cross-site scripting (XSS) vulnerability in co...      LOW   \n",
              "26  SEC-027  Outdated SSL certificate with known vulnerabil...     HIGH   \n",
              "42  SEC-043  Insecure direct object references in API endpo...     HIGH   \n",
              "69  SEC-070  SQL injection vulnerability found in login for...      LOW   \n",
              "\n",
              "            Category  priority_encoded  category_encoded  \n",
              "55  Input Validation                 1                 4  \n",
              "88    Access Control                 1                 0  \n",
              "26    Authentication                 0                 1  \n",
              "42    Authentication                 0                 1  \n",
              "69    Access Control                 1                 0  "
            ],
            "text/html": [
              "\n",
              "  <div id=\"df-e8cb7f20-29a4-4943-b30f-01876ef014eb\" class=\"colab-df-container\">\n",
              "    <div>\n",
              "<style scoped>\n",
              "    .dataframe tbody tr th:only-of-type {\n",
              "        vertical-align: middle;\n",
              "    }\n",
              "\n",
              "    .dataframe tbody tr th {\n",
              "        vertical-align: top;\n",
              "    }\n",
              "\n",
              "    .dataframe thead th {\n",
              "        text-align: right;\n",
              "    }\n",
              "</style>\n",
              "<table border=\"1\" class=\"dataframe\">\n",
              "  <thead>\n",
              "    <tr style=\"text-align: right;\">\n",
              "      <th></th>\n",
              "      <th>ID</th>\n",
              "      <th>Description</th>\n",
              "      <th>Priority</th>\n",
              "      <th>Category</th>\n",
              "      <th>priority_encoded</th>\n",
              "      <th>category_encoded</th>\n",
              "    </tr>\n",
              "  </thead>\n",
              "  <tbody>\n",
              "    <tr>\n",
              "      <th>55</th>\n",
              "      <td>SEC-056</td>\n",
              "      <td>Authentication bypass in password reset functi...</td>\n",
              "      <td>LOW</td>\n",
              "      <td>Input Validation</td>\n",
              "      <td>1</td>\n",
              "      <td>4</td>\n",
              "    </tr>\n",
              "    <tr>\n",
              "      <th>88</th>\n",
              "      <td>SEC-089</td>\n",
              "      <td>Cross-site scripting (XSS) vulnerability in co...</td>\n",
              "      <td>LOW</td>\n",
              "      <td>Access Control</td>\n",
              "      <td>1</td>\n",
              "      <td>0</td>\n",
              "    </tr>\n",
              "    <tr>\n",
              "      <th>26</th>\n",
              "      <td>SEC-027</td>\n",
              "      <td>Outdated SSL certificate with known vulnerabil...</td>\n",
              "      <td>HIGH</td>\n",
              "      <td>Authentication</td>\n",
              "      <td>0</td>\n",
              "      <td>1</td>\n",
              "    </tr>\n",
              "    <tr>\n",
              "      <th>42</th>\n",
              "      <td>SEC-043</td>\n",
              "      <td>Insecure direct object references in API endpo...</td>\n",
              "      <td>HIGH</td>\n",
              "      <td>Authentication</td>\n",
              "      <td>0</td>\n",
              "      <td>1</td>\n",
              "    </tr>\n",
              "    <tr>\n",
              "      <th>69</th>\n",
              "      <td>SEC-070</td>\n",
              "      <td>SQL injection vulnerability found in login for...</td>\n",
              "      <td>LOW</td>\n",
              "      <td>Access Control</td>\n",
              "      <td>1</td>\n",
              "      <td>0</td>\n",
              "    </tr>\n",
              "  </tbody>\n",
              "</table>\n",
              "</div>\n",
              "    <div class=\"colab-df-buttons\">\n",
              "\n",
              "  <div class=\"colab-df-container\">\n",
              "    <button class=\"colab-df-convert\" onclick=\"convertToInteractive('df-e8cb7f20-29a4-4943-b30f-01876ef014eb')\"\n",
              "            title=\"Convert this dataframe to an interactive table.\"\n",
              "            style=\"display:none;\">\n",
              "\n",
              "  <svg xmlns=\"http://www.w3.org/2000/svg\" height=\"24px\" viewBox=\"0 -960 960 960\">\n",
              "    <path d=\"M120-120v-720h720v720H120Zm60-500h600v-160H180v160Zm220 220h160v-160H400v160Zm0 220h160v-160H400v160ZM180-400h160v-160H180v160Zm440 0h160v-160H620v160ZM180-180h160v-160H180v160Zm440 0h160v-160H620v160Z\"/>\n",
              "  </svg>\n",
              "    </button>\n",
              "\n",
              "  <style>\n",
              "    .colab-df-container {\n",
              "      display:flex;\n",
              "      gap: 12px;\n",
              "    }\n",
              "\n",
              "    .colab-df-convert {\n",
              "      background-color: #E8F0FE;\n",
              "      border: none;\n",
              "      border-radius: 50%;\n",
              "      cursor: pointer;\n",
              "      display: none;\n",
              "      fill: #1967D2;\n",
              "      height: 32px;\n",
              "      padding: 0 0 0 0;\n",
              "      width: 32px;\n",
              "    }\n",
              "\n",
              "    .colab-df-convert:hover {\n",
              "      background-color: #E2EBFA;\n",
              "      box-shadow: 0px 1px 2px rgba(60, 64, 67, 0.3), 0px 1px 3px 1px rgba(60, 64, 67, 0.15);\n",
              "      fill: #174EA6;\n",
              "    }\n",
              "\n",
              "    .colab-df-buttons div {\n",
              "      margin-bottom: 4px;\n",
              "    }\n",
              "\n",
              "    [theme=dark] .colab-df-convert {\n",
              "      background-color: #3B4455;\n",
              "      fill: #D2E3FC;\n",
              "    }\n",
              "\n",
              "    [theme=dark] .colab-df-convert:hover {\n",
              "      background-color: #434B5C;\n",
              "      box-shadow: 0px 1px 3px 1px rgba(0, 0, 0, 0.15);\n",
              "      filter: drop-shadow(0px 1px 2px rgba(0, 0, 0, 0.3));\n",
              "      fill: #FFFFFF;\n",
              "    }\n",
              "  </style>\n",
              "\n",
              "    <script>\n",
              "      const buttonEl =\n",
              "        document.querySelector('#df-e8cb7f20-29a4-4943-b30f-01876ef014eb button.colab-df-convert');\n",
              "      buttonEl.style.display =\n",
              "        google.colab.kernel.accessAllowed ? 'block' : 'none';\n",
              "\n",
              "      async function convertToInteractive(key) {\n",
              "        const element = document.querySelector('#df-e8cb7f20-29a4-4943-b30f-01876ef014eb');\n",
              "        const dataTable =\n",
              "          await google.colab.kernel.invokeFunction('convertToInteractive',\n",
              "                                                    [key], {});\n",
              "        if (!dataTable) return;\n",
              "\n",
              "        const docLinkHtml = 'Like what you see? Visit the ' +\n",
              "          '<a target=\"_blank\" href=https://colab.research.google.com/notebooks/data_table.ipynb>data table notebook</a>'\n",
              "          + ' to learn more about interactive tables.';\n",
              "        element.innerHTML = '';\n",
              "        dataTable['output_type'] = 'display_data';\n",
              "        await google.colab.output.renderOutput(dataTable, element);\n",
              "        const docLink = document.createElement('div');\n",
              "        docLink.innerHTML = docLinkHtml;\n",
              "        element.appendChild(docLink);\n",
              "      }\n",
              "    </script>\n",
              "  </div>\n",
              "\n",
              "\n",
              "<div id=\"df-775ad95e-4299-4465-9f00-fedbe46ea025\">\n",
              "  <button class=\"colab-df-quickchart\" onclick=\"quickchart('df-775ad95e-4299-4465-9f00-fedbe46ea025')\"\n",
              "            title=\"Suggest charts\"\n",
              "            style=\"display:none;\">\n",
              "\n",
              "<svg xmlns=\"http://www.w3.org/2000/svg\" height=\"24px\"viewBox=\"0 0 24 24\"\n",
              "     width=\"24px\">\n",
              "    <g>\n",
              "        <path d=\"M19 3H5c-1.1 0-2 .9-2 2v14c0 1.1.9 2 2 2h14c1.1 0 2-.9 2-2V5c0-1.1-.9-2-2-2zM9 17H7v-7h2v7zm4 0h-2V7h2v10zm4 0h-2v-4h2v4z\"/>\n",
              "    </g>\n",
              "</svg>\n",
              "  </button>\n",
              "\n",
              "<style>\n",
              "  .colab-df-quickchart {\n",
              "      --bg-color: #E8F0FE;\n",
              "      --fill-color: #1967D2;\n",
              "      --hover-bg-color: #E2EBFA;\n",
              "      --hover-fill-color: #174EA6;\n",
              "      --disabled-fill-color: #AAA;\n",
              "      --disabled-bg-color: #DDD;\n",
              "  }\n",
              "\n",
              "  [theme=dark] .colab-df-quickchart {\n",
              "      --bg-color: #3B4455;\n",
              "      --fill-color: #D2E3FC;\n",
              "      --hover-bg-color: #434B5C;\n",
              "      --hover-fill-color: #FFFFFF;\n",
              "      --disabled-bg-color: #3B4455;\n",
              "      --disabled-fill-color: #666;\n",
              "  }\n",
              "\n",
              "  .colab-df-quickchart {\n",
              "    background-color: var(--bg-color);\n",
              "    border: none;\n",
              "    border-radius: 50%;\n",
              "    cursor: pointer;\n",
              "    display: none;\n",
              "    fill: var(--fill-color);\n",
              "    height: 32px;\n",
              "    padding: 0;\n",
              "    width: 32px;\n",
              "  }\n",
              "\n",
              "  .colab-df-quickchart:hover {\n",
              "    background-color: var(--hover-bg-color);\n",
              "    box-shadow: 0 1px 2px rgba(60, 64, 67, 0.3), 0 1px 3px 1px rgba(60, 64, 67, 0.15);\n",
              "    fill: var(--button-hover-fill-color);\n",
              "  }\n",
              "\n",
              "  .colab-df-quickchart-complete:disabled,\n",
              "  .colab-df-quickchart-complete:disabled:hover {\n",
              "    background-color: var(--disabled-bg-color);\n",
              "    fill: var(--disabled-fill-color);\n",
              "    box-shadow: none;\n",
              "  }\n",
              "\n",
              "  .colab-df-spinner {\n",
              "    border: 2px solid var(--fill-color);\n",
              "    border-color: transparent;\n",
              "    border-bottom-color: var(--fill-color);\n",
              "    animation:\n",
              "      spin 1s steps(1) infinite;\n",
              "  }\n",
              "\n",
              "  @keyframes spin {\n",
              "    0% {\n",
              "      border-color: transparent;\n",
              "      border-bottom-color: var(--fill-color);\n",
              "      border-left-color: var(--fill-color);\n",
              "    }\n",
              "    20% {\n",
              "      border-color: transparent;\n",
              "      border-left-color: var(--fill-color);\n",
              "      border-top-color: var(--fill-color);\n",
              "    }\n",
              "    30% {\n",
              "      border-color: transparent;\n",
              "      border-left-color: var(--fill-color);\n",
              "      border-top-color: var(--fill-color);\n",
              "      border-right-color: var(--fill-color);\n",
              "    }\n",
              "    40% {\n",
              "      border-color: transparent;\n",
              "      border-right-color: var(--fill-color);\n",
              "      border-top-color: var(--fill-color);\n",
              "    }\n",
              "    60% {\n",
              "      border-color: transparent;\n",
              "      border-right-color: var(--fill-color);\n",
              "    }\n",
              "    80% {\n",
              "      border-color: transparent;\n",
              "      border-right-color: var(--fill-color);\n",
              "      border-bottom-color: var(--fill-color);\n",
              "    }\n",
              "    90% {\n",
              "      border-color: transparent;\n",
              "      border-bottom-color: var(--fill-color);\n",
              "    }\n",
              "  }\n",
              "</style>\n",
              "\n",
              "  <script>\n",
              "    async function quickchart(key) {\n",
              "      const quickchartButtonEl =\n",
              "        document.querySelector('#' + key + ' button');\n",
              "      quickchartButtonEl.disabled = true;  // To prevent multiple clicks.\n",
              "      quickchartButtonEl.classList.add('colab-df-spinner');\n",
              "      try {\n",
              "        const charts = await google.colab.kernel.invokeFunction(\n",
              "            'suggestCharts', [key], {});\n",
              "      } catch (error) {\n",
              "        console.error('Error during call to suggestCharts:', error);\n",
              "      }\n",
              "      quickchartButtonEl.classList.remove('colab-df-spinner');\n",
              "      quickchartButtonEl.classList.add('colab-df-quickchart-complete');\n",
              "    }\n",
              "    (() => {\n",
              "      let quickchartButtonEl =\n",
              "        document.querySelector('#df-775ad95e-4299-4465-9f00-fedbe46ea025 button');\n",
              "      quickchartButtonEl.style.display =\n",
              "        google.colab.kernel.accessAllowed ? 'block' : 'none';\n",
              "    })();\n",
              "  </script>\n",
              "</div>\n",
              "\n",
              "    </div>\n",
              "  </div>\n"
            ],
            "application/vnd.google.colaboratory.intrinsic+json": {
              "type": "dataframe",
              "variable_name": "train_df",
              "summary": "{\n  \"name\": \"train_df\",\n  \"rows\": 80,\n  \"fields\": [\n    {\n      \"column\": \"ID\",\n      \"properties\": {\n        \"dtype\": \"string\",\n        \"num_unique_values\": 80,\n        \"samples\": [\n          \"SEC-025\",\n          \"SEC-056\",\n          \"SEC-008\"\n        ],\n        \"semantic_type\": \"\",\n        \"description\": \"\"\n      }\n    },\n    {\n      \"column\": \"Description\",\n      \"properties\": {\n        \"dtype\": \"category\",\n        \"num_unique_values\": 10,\n        \"samples\": [\n          \"Missing access controls in admin panel\",\n          \"Cross-site scripting (XSS) vulnerability in comment section\",\n          \"Buffer overflow vulnerability in input validation\"\n        ],\n        \"semantic_type\": \"\",\n        \"description\": \"\"\n      }\n    },\n    {\n      \"column\": \"Priority\",\n      \"properties\": {\n        \"dtype\": \"category\",\n        \"num_unique_values\": 3,\n        \"samples\": [\n          \"LOW\",\n          \"HIGH\",\n          \"MEDIUM\"\n        ],\n        \"semantic_type\": \"\",\n        \"description\": \"\"\n      }\n    },\n    {\n      \"column\": \"Category\",\n      \"properties\": {\n        \"dtype\": \"category\",\n        \"num_unique_values\": 5,\n        \"samples\": [\n          \"Access Control\",\n          \"Data Exposure\",\n          \"Authentication\"\n        ],\n        \"semantic_type\": \"\",\n        \"description\": \"\"\n      }\n    },\n    {\n      \"column\": \"priority_encoded\",\n      \"properties\": {\n        \"dtype\": \"number\",\n        \"std\": 0,\n        \"min\": 0,\n        \"max\": 2,\n        \"num_unique_values\": 3,\n        \"samples\": [\n          1,\n          0,\n          2\n        ],\n        \"semantic_type\": \"\",\n        \"description\": \"\"\n      }\n    },\n    {\n      \"column\": \"category_encoded\",\n      \"properties\": {\n        \"dtype\": \"number\",\n        \"std\": 1,\n        \"min\": 0,\n        \"max\": 4,\n        \"num_unique_values\": 5,\n        \"samples\": [\n          0,\n          2,\n          1\n        ],\n        \"semantic_type\": \"\",\n        \"description\": \"\"\n      }\n    }\n  ]\n}"
            }
          },
          "metadata": {},
          "execution_count": 10
        }
      ]
    },
    {
      "cell_type": "code",
      "source": [
        "# Now BERTs preprocess of tokenizing\n",
        "# Tokenize training data\n",
        "train_encodings = tokenizer(\n",
        "    train_df['Description'].tolist(),\n",
        "    truncation=True,\n",
        "    padding=True,\n",
        "    return_tensors='pt'\n",
        ")\n",
        "\n",
        "# Tokenize evaluation data\n",
        "eval_encodings = tokenizer(\n",
        "    eval_df['Description'].tolist(),\n",
        "    truncation=True,\n",
        "    padding=True,\n",
        "    return_tensors='pt'\n",
        ")\n",
        "\n",
        "train_encodings.keys()"
      ],
      "metadata": {
        "colab": {
          "base_uri": "https://localhost:8080/"
        },
        "id": "PCc598krVV56",
        "outputId": "c1c23da4-8791-4782-c1a5-1d915a13a274"
      },
      "execution_count": 11,
      "outputs": [
        {
          "output_type": "execute_result",
          "data": {
            "text/plain": [
              "dict_keys(['input_ids', 'attention_mask'])"
            ]
          },
          "metadata": {},
          "execution_count": 11
        }
      ]
    },
    {
      "cell_type": "code",
      "source": [
        "#Convert labels to tensors\n",
        "train_priority_labels = torch.tensor(train_df['priority_encoded'].values)\n",
        "train_category_labels = torch.tensor(train_df['category_encoded'].values)\n",
        "\n",
        "eval_priority_labels = torch.tensor(eval_df['priority_encoded'].values)\n",
        "eval_category_labels = torch.tensor(eval_df['category_encoded'].values)"
      ],
      "metadata": {
        "id": "xPSRQz2vahx5"
      },
      "execution_count": 12,
      "outputs": []
    },
    {
      "cell_type": "code",
      "source": [
        "# Check\n",
        "print(\"\\n Shapes:\")\n",
        "print(\"Train encodings:\", train_encodings['input_ids'].shape)\n",
        "print(\"Train priority labels:\", train_priority_labels.shape)\n",
        "print(\"Train category labels:\", train_category_labels.shape)\n",
        "print(\"\\nUnique values:\")\n",
        "print(\"Priority classes:\", priority_encoder.classes_)\n",
        "print(\"Category classes:\", category_encoder.classes_)"
      ],
      "metadata": {
        "colab": {
          "base_uri": "https://localhost:8080/"
        },
        "id": "K_HE9e6_Ycea",
        "outputId": "e5adff1e-f06e-47a9-f19b-40a7cee970ad"
      },
      "execution_count": 13,
      "outputs": [
        {
          "output_type": "stream",
          "name": "stdout",
          "text": [
            "\n",
            "Shapes:\n",
            "Train encodings: torch.Size([80, 13])\n",
            "Train priority labels: torch.Size([80])\n",
            "Train category labels: torch.Size([80])\n",
            "\n",
            "Unique values:\n",
            "Priority classes: ['HIGH' 'LOW' 'MEDIUM']\n",
            "Category classes: ['Access Control' 'Authentication' 'Data Exposure' 'Injection'\n",
            " 'Input Validation']\n"
          ]
        }
      ]
    },
    {
      "cell_type": "code",
      "source": [
        "# Add classification heads in pt way\n",
        "priority_classifier = torch.nn.Linear(model.config.hidden_size, len(priority_encoder.classes_))\n",
        "category_classifier = torch.nn.Linear(model.config.hidden_size, len(category_encoder.classes_))\n"
      ],
      "metadata": {
        "id": "yp1mR-_ma5AU"
      },
      "execution_count": 14,
      "outputs": []
    },
    {
      "cell_type": "code",
      "source": [
        "# training parameters\n",
        "learning_rate = 1e-5\n",
        "num_epochs = 20\n",
        "batch_size = 20\n",
        "\n",
        "# optimizer\n",
        "optimizer = torch.optim.Adam([\n",
        "    {'params': model.parameters()},\n",
        "    {'params': priority_classifier.parameters()},\n",
        "    {'params': category_classifier.parameters()}\n",
        "], lr=learning_rate)"
      ],
      "metadata": {
        "id": "H1v92E98bEFe"
      },
      "execution_count": 23,
      "outputs": []
    },
    {
      "cell_type": "code",
      "source": [
        "# loss function\n",
        "criterion = torch.nn.CrossEntropyLoss()"
      ],
      "metadata": {
        "id": "skW_lZ8EbqKt"
      },
      "execution_count": 24,
      "outputs": []
    },
    {
      "cell_type": "code",
      "source": [
        "# training\n",
        "device = torch.device('cuda' if torch.cuda.is_available() else 'cpu')\n",
        "print(\"Using device:\", device)"
      ],
      "metadata": {
        "colab": {
          "base_uri": "https://localhost:8080/"
        },
        "id": "7Tt3HILmb98S",
        "outputId": "262871bc-87a0-49e7-d3e1-66795f2d07ef"
      },
      "execution_count": 25,
      "outputs": [
        {
          "output_type": "stream",
          "name": "stdout",
          "text": [
            "Using device: cpu\n"
          ]
        }
      ]
    },
    {
      "cell_type": "code",
      "source": [
        "# Move models to device\n",
        "model = model.to(device)\n",
        "priority_classifier = priority_classifier.to(device)\n",
        "category_classifier = category_classifier.to(device)"
      ],
      "metadata": {
        "id": "h-dbUMexcI9b"
      },
      "execution_count": 26,
      "outputs": []
    },
    {
      "cell_type": "code",
      "source": [
        "# Training loop\n",
        "for epoch in range(num_epochs):\n",
        "    model.train()\n",
        "    total_loss = 0\n",
        "\n",
        "    # Process in batches\n",
        "    for i in range(0, len(train_df), batch_size):\n",
        "        batch_encodings = {\n",
        "            'input_ids': train_encodings['input_ids'][i:i+batch_size].to(device),\n",
        "            'attention_mask': train_encodings['attention_mask'][i:i+batch_size].to(device)\n",
        "        }\n",
        "        batch_priority = train_priority_labels[i:i+batch_size].to(device)\n",
        "        batch_category = train_category_labels[i:i+batch_size].to(device)\n",
        "\n",
        "        # Forward pass\n",
        "        outputs = model(**batch_encodings)\n",
        "        pooled_output = outputs.last_hidden_state[:, 0, :]\n",
        "\n",
        "        # Get predictions\n",
        "        priority_output = priority_classifier(pooled_output)\n",
        "        category_output = category_classifier(pooled_output)\n",
        "\n",
        "        # Calculate loss\n",
        "        priority_loss = criterion(priority_output, batch_priority)\n",
        "        category_loss = criterion(category_output, batch_category)\n",
        "        loss = priority_loss + category_loss\n",
        "\n",
        "        # Backward pass\n",
        "        optimizer.zero_grad()\n",
        "        loss.backward()\n",
        "        optimizer.step()\n",
        "\n",
        "        total_loss += loss.item()\n",
        "\n",
        "    # Print epoch stats\n",
        "    avg_loss = total_loss / (len(train_df) / batch_size)\n",
        "    print(f\"Epoch {epoch+1}/{num_epochs}, Average Loss: {avg_loss:.4f}\")\n",
        "\n",
        "print(\"Training completed!\")"
      ],
      "metadata": {
        "colab": {
          "base_uri": "https://localhost:8080/"
        },
        "id": "HdwgbQTPcMrV",
        "outputId": "d41aec6b-90b1-4959-b9f8-a6867c9a07d4"
      },
      "execution_count": 27,
      "outputs": [
        {
          "output_type": "stream",
          "name": "stdout",
          "text": [
            "Epoch 1/20, Average Loss: 2.6519\n",
            "Epoch 2/20, Average Loss: 2.6918\n",
            "Epoch 3/20, Average Loss: 2.6971\n",
            "Epoch 4/20, Average Loss: 2.6433\n",
            "Epoch 5/20, Average Loss: 2.6890\n",
            "Epoch 6/20, Average Loss: 2.6536\n",
            "Epoch 7/20, Average Loss: 2.6582\n",
            "Epoch 8/20, Average Loss: 2.6102\n",
            "Epoch 9/20, Average Loss: 2.6075\n",
            "Epoch 10/20, Average Loss: 2.5811\n",
            "Epoch 11/20, Average Loss: 2.5388\n",
            "Epoch 12/20, Average Loss: 2.5788\n",
            "Epoch 13/20, Average Loss: 2.4990\n",
            "Epoch 14/20, Average Loss: 2.4807\n",
            "Epoch 15/20, Average Loss: 2.4445\n",
            "Epoch 16/20, Average Loss: 2.5215\n",
            "Epoch 17/20, Average Loss: 2.4787\n",
            "Epoch 18/20, Average Loss: 2.4901\n",
            "Epoch 19/20, Average Loss: 2.4426\n",
            "Epoch 20/20, Average Loss: 2.4117\n",
            "Training completed!\n"
          ]
        }
      ]
    },
    {
      "cell_type": "code",
      "source": [
        "# Evaluation\n",
        "model.eval()\n",
        "priority_classifier.eval()\n",
        "category_classifier.eval()\n",
        "\n",
        "correct_priority = 0\n",
        "correct_category = 0\n",
        "total = 0\n",
        "\n",
        "with torch.no_grad():\n",
        "    for i in range(0, len(eval_df), batch_size):\n",
        "        batch_encodings = {\n",
        "            'input_ids': eval_encodings['input_ids'][i:i+batch_size].to(device),\n",
        "            'attention_mask': eval_encodings['attention_mask'][i:i+batch_size].to(device)\n",
        "        }\n",
        "        batch_priority = eval_priority_labels[i:i+batch_size].to(device)\n",
        "        batch_category = eval_category_labels[i:i+batch_size].to(device)\n",
        "\n",
        "        # Get predictions\n",
        "        outputs = model(**batch_encodings)\n",
        "        pooled_output = outputs.last_hidden_state[:, 0, :]\n",
        "\n",
        "        priority_output = priority_classifier(pooled_output)\n",
        "        category_output = category_classifier(pooled_output)\n",
        "\n",
        "        # Calculate accuracy\n",
        "        _, predicted_priority = torch.max(priority_output, 1)\n",
        "        _, predicted_category = torch.max(category_output, 1)\n",
        "\n",
        "        correct_priority += (predicted_priority == batch_priority).sum().item()\n",
        "        correct_category += (predicted_category == batch_category).sum().item()\n",
        "        total += batch_priority.size(0)\n",
        "\n",
        "priority_accuracy = 100 * correct_priority / total\n",
        "category_accuracy = 100 * correct_category / total\n",
        "\n",
        "print(f'\\nTest Accuracy:')\n",
        "print(f'Priority Accuracy: {priority_accuracy:.2f}%')\n",
        "print(f'Category Accuracy: {category_accuracy:.2f}%')"
      ],
      "metadata": {
        "colab": {
          "base_uri": "https://localhost:8080/"
        },
        "id": "gc6K9gG7fPio",
        "outputId": "e2b5e336-c67e-4ff7-dd10-accccc02cd39"
      },
      "execution_count": 28,
      "outputs": [
        {
          "output_type": "stream",
          "name": "stdout",
          "text": [
            "\n",
            "Test Accuracy:\n",
            "Priority Accuracy: 20.00%\n",
            "Category Accuracy: 25.00%\n"
          ]
        }
      ]
    },
    {
      "cell_type": "code",
      "source": [
        "def predict_model(text):\n",
        "    # Prepare model for inference\n",
        "    model.eval()\n",
        "    priority_classifier.eval()\n",
        "    category_classifier.eval()\n",
        "\n",
        "    # Tokenize input\n",
        "    inputs = tokenizer(\n",
        "        text,\n",
        "        truncation=True,\n",
        "        padding=True,\n",
        "        return_tensors=\"pt\"\n",
        "    ).to(device)\n",
        "\n",
        "    with torch.no_grad():\n",
        "        # Get model outputs\n",
        "        outputs = model(**inputs)\n",
        "        pooled_output = outputs.last_hidden_state[:, 0, :]\n",
        "\n",
        "        # Get predictions\n",
        "        priority_output = priority_classifier(pooled_output)\n",
        "        category_output = category_classifier(pooled_output)\n",
        "\n",
        "        # Convert to probabilities\n",
        "        priority_probs = torch.softmax(priority_output, dim=1)\n",
        "        category_probs = torch.softmax(category_output, dim=1)\n",
        "\n",
        "        # Get predicted classes\n",
        "        priority_pred = torch.argmax(priority_probs, dim=1).item()\n",
        "        category_pred = torch.argmax(category_probs, dim=1).item()\n",
        "\n",
        "        # Convert back to original labels\n",
        "        priority = priority_encoder.inverse_transform([priority_pred])[0]\n",
        "        category = category_encoder.inverse_transform([category_pred])[0]\n",
        "\n",
        "        # Get confidence scores\n",
        "        priority_confidence = priority_probs[0][priority_pred].item()\n",
        "        category_confidence = category_probs[0][category_pred].item()\n",
        "\n",
        "    return {\n",
        "        'priority': priority,\n",
        "        'priority_confidence': f\"{priority_confidence:.2%}\",\n",
        "        'category': category,\n",
        "        'category_confidence': f\"{category_confidence:.2%}\"\n",
        "    }\n",
        "\n",
        "# Test with some examples\n",
        "test_texts = [\n",
        "    \"SQL injection vulnerability in login form\",\n",
        "    \"Weak password policy allows brute force attacks\",\n",
        "    \"Sensitive data exposed in error logs\"\n",
        "]\n",
        "\n",
        "print(\"\\nTesting predictions:\")\n",
        "for text in test_texts:\n",
        "    result = predict_model(text)\n",
        "    print(f\"\\nInput: {text}\")\n",
        "    print(f\"Priority: {result['priority']} (Confidence: {result['priority_confidence']})\")\n",
        "    print(f\"Category: {result['category']} (Confidence: {result['category_confidence']})\")"
      ],
      "metadata": {
        "colab": {
          "base_uri": "https://localhost:8080/"
        },
        "id": "hepqxFcRfgzi",
        "outputId": "0144f30b-5594-4f93-c8d8-8d215aadaa3f"
      },
      "execution_count": 39,
      "outputs": [
        {
          "output_type": "stream",
          "name": "stdout",
          "text": [
            "\n",
            "Testing predictions:\n",
            "\n",
            "Input: SQL injection vulnerability in login form\n",
            "Priority: LOW (Confidence: 35.03%)\n",
            "Category: Injection (Confidence: 21.09%)\n",
            "\n",
            "Input: Weak password policy allows brute force attacks\n",
            "Priority: LOW (Confidence: 35.00%)\n",
            "Category: Injection (Confidence: 21.09%)\n",
            "\n",
            "Input: Sensitive data exposed in error logs\n",
            "Priority: LOW (Confidence: 35.02%)\n",
            "Category: Injection (Confidence: 21.08%)\n"
          ]
        }
      ]
    },
    {
      "cell_type": "code",
      "source": [
        "# # changing architecure a bit for classification\n",
        "\n",
        "# # Reset models and move to device\n",
        "# model = RobertaModel.from_pretrained(\"ehsanaghaei/SecureBERT\").to(device)\n",
        "\n",
        "\n",
        "# # More complex classification heads\n",
        "# priority_classifier = torch.nn.Sequential(\n",
        "#     torch.nn.Linear(model.config.hidden_size, 512),\n",
        "#     torch.nn.ReLU(),\n",
        "#     torch.nn.Dropout(0.3),\n",
        "#     torch.nn.Linear(512, 256),\n",
        "#     torch.nn.ReLU(),\n",
        "#     torch.nn.Dropout(0.3),\n",
        "#     torch.nn.Linear(256, len(priority_encoder.classes_))\n",
        "# ).to(device)\n",
        "\n",
        "# category_classifier = torch.nn.Sequential(\n",
        "#     torch.nn.Linear(model.config.hidden_size, 512),\n",
        "#     torch.nn.ReLU(),\n",
        "#     torch.nn.Dropout(0.3),\n",
        "#     torch.nn.Linear(512, 256),\n",
        "#     torch.nn.ReLU(),\n",
        "#     torch.nn.Dropout(0.3),\n",
        "#     torch.nn.Linear(256, len(category_encoder.classes_))\n",
        "# ).to(device)"
      ],
      "metadata": {
        "colab": {
          "base_uri": "https://localhost:8080/"
        },
        "id": "6z3JVC5pz7QN",
        "outputId": "f40c287f-97bb-4ac6-d7ce-fa5a6d4c7920"
      },
      "execution_count": 35,
      "outputs": [
        {
          "output_type": "stream",
          "name": "stderr",
          "text": [
            "Some weights of RobertaModel were not initialized from the model checkpoint at ehsanaghaei/SecureBERT and are newly initialized: ['roberta.pooler.dense.bias', 'roberta.pooler.dense.weight']\n",
            "You should probably TRAIN this model on a down-stream task to be able to use it for predictions and inference.\n"
          ]
        }
      ]
    },
    {
      "cell_type": "markdown",
      "source": [
        "# Actual DataSet\n",
        "\n",
        "Prepare dataset based on CWE, CVE and other public database"
      ],
      "metadata": {
        "id": "YJG7YB3i12CD"
      }
    }
  ]
}