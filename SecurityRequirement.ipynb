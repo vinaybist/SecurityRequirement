{
 "cells": [
  {
   "cell_type": "markdown",
   "metadata": {
    "id": "1dZNQs6iGydI"
   },
   "source": [
    "#**Categorization, Prioritization, and Summarization of Security Vulnerabilities or Weaknesses**\n",
    "\n",
    "A system leveraging SecureBERT to analyze security vulnerabilities by:\n",
    "\n",
    "- Categorizing the type of vulnerability\n",
    "- Assigning priority levels\n",
    "- Providing structured analysis of security weaknesses"
   ]
  },
  {
   "cell_type": "code",
   "execution_count": null,
   "metadata": {
    "id": "yeIzrKrTedhS"
   },
   "outputs": [],
   "source": [
    "!pip install datasets"
   ]
  },
  {
   "cell_type": "code",
   "execution_count": null,
   "metadata": {
    "colab": {
     "base_uri": "https://localhost:8080/"
    },
    "id": "Q9uLVUlZG6Rp",
    "outputId": "0451c1a3-7576-4946-9d43-c4905895d400"
   },
   "outputs": [
    {
     "name": "stdout",
     "output_type": "stream",
     "text": [
      "Sample of the dataset:\n",
      "        ID                                        Description Priority  \\\n",
      "0  SEC-001  Sensitive data exposure through unencrypted tr...      LOW   \n",
      "1  SEC-002  Cross-site scripting (XSS) vulnerability in co...     HIGH   \n",
      "2  SEC-003             Missing access controls in admin panel     HIGH   \n",
      "3  SEC-004  Sensitive data exposure through unencrypted tr...      LOW   \n",
      "4  SEC-005  Insecure direct object references in API endpo...      LOW   \n",
      "\n",
      "         Category  \n",
      "0  Authentication  \n",
      "1  Access Control  \n",
      "2  Access Control  \n",
      "3  Authentication  \n",
      "4  Authentication  \n",
      "\n",
      "Distribution of Priorities:\n",
      "Priority\n",
      "LOW       42\n",
      "HIGH      37\n",
      "MEDIUM    21\n",
      "Name: count, dtype: int64\n",
      "\n",
      "Distribution of Categories:\n",
      "Category\n",
      "Authentication      24\n",
      "Injection           22\n",
      "Data Exposure       21\n",
      "Input Validation    18\n",
      "Access Control      15\n",
      "Name: count, dtype: int64\n"
     ]
    }
   ],
   "source": [
    "import pandas as pd\n",
    "import random\n",
    "\n",
    "# Create sample security findings\n",
    "security_data = {\n",
    "    'ID': [],\n",
    "    'Description': [],\n",
    "    'Priority': [],\n",
    "    'Category': []\n",
    "}\n",
    "\n",
    "# Sample descriptions\n",
    "descriptions = [\n",
    "    \"SQL injection vulnerability found in login form allowing unauthorized database access\",\n",
    "    \"Weak password policy allows brute force attacks\",\n",
    "    \"Cross-site scripting (XSS) vulnerability in comment section\",\n",
    "    \"Sensitive data exposure through unencrypted transmission\",\n",
    "    \"Missing access controls in admin panel\",\n",
    "    \"Buffer overflow vulnerability in input validation\",\n",
    "    \"Outdated SSL certificate with known vulnerabilities\",\n",
    "    \"Insecure direct object references in API endpoints\",\n",
    "    \"Command injection vulnerability in file upload feature\",\n",
    "    \"Authentication bypass in password reset functionality\"\n",
    "]\n",
    "\n",
    "# Possible values\n",
    "priorities = ['HIGH', 'MEDIUM', 'LOW']\n",
    "categories = ['Injection', 'Authentication', 'Data Exposure', 'Access Control', 'Input Validation']\n",
    "\n",
    "# Generate 100 sample entries\n",
    "for i in range(100):\n",
    "    security_data['ID'].append(f'SEC-{str(i+1).zfill(3)}')\n",
    "    security_data['Description'].append(random.choice(descriptions))\n",
    "    security_data['Priority'].append(random.choice(priorities))\n",
    "    security_data['Category'].append(random.choice(categories))\n",
    "\n",
    "# Create DataFrame\n",
    "df = pd.DataFrame(security_data)\n",
    "\n",
    "# Save to CSV\n",
    "df.to_csv('security_findings.csv', index=False)\n",
    "\n",
    "# Display first few rows\n",
    "print(\"Sample of the dataset:\")\n",
    "print(df.head())\n",
    "\n",
    "# Display distribution of priorities and categories\n",
    "print(\"\\nDistribution of Priorities:\")\n",
    "print(df['Priority'].value_counts())\n",
    "print(\"\\nDistribution of Categories:\")\n",
    "print(df['Category'].value_counts())"
   ]
  },
  {
   "cell_type": "code",
   "execution_count": null,
   "metadata": {
    "colab": {
     "base_uri": "https://localhost:8080/"
    },
    "id": "R17im2V-HF9r",
    "outputId": "e9295bb1-b05c-42f4-b991-f19bad6750a5"
   },
   "outputs": [],
   "source": [
    "# prompt: data preprocessing to see the insight of it\n",
    "\n",
    "import pandas as pd\n",
    "\n",
    "# Load the dataset\n",
    "df = pd.read_csv('security_findings.csv')\n",
    "\n",
    "# Display basic statistics\n",
    "print(df.describe(include='all'))\n",
    "\n",
    "# Explore data types\n",
    "print(\"\\nData Types:\")\n",
    "print(df.dtypes)\n",
    "\n",
    "# Check for missing values\n",
    "print(\"\\nMissing Values:\")\n",
    "print(df.isnull().sum())\n",
    "\n",
    "# Analyze the 'Description' column (example)\n",
    "print(\"\\nDescription Column Analysis:\")\n",
    "print(df['Description'].value_counts())  # Count occurrences of each description\n",
    "# You can also explore word frequencies or other textual analysis techniques here\n",
    "\n",
    "# Further analysis based on Priority and Category\n",
    "print(\"\\nAnalysis by Priority:\")\n",
    "for priority in df['Priority'].unique():\n",
    "    print(f\"  Priority: {priority}\")\n",
    "    print(df[df['Priority'] == priority]['Category'].value_counts())\n",
    "\n",
    "print(\"\\nAnalysis by Category:\")\n",
    "for category in df['Category'].unique():\n",
    "    print(f\"  Category: {category}\")\n",
    "    print(df[df['Category'] == category]['Priority'].value_counts())"
   ]
  },
  {
   "cell_type": "code",
   "execution_count": null,
   "metadata": {
    "colab": {
     "base_uri": "https://localhost:8080/",
     "height": 1000
    },
    "id": "m9DeINiAHQow",
    "outputId": "4fb746a7-2a81-43be-82b9-20fd86fbf252"
   },
   "outputs": [
    {
     "data": {
      "image/png": "[encoded data removed]",
      "text/plain": [
       "<Figure size 800x600 with 1 Axes>"
      ]
     },
     "metadata": {},
     "output_type": "display_data"
    },
    {
     "data": {
      "image/png": "[encoded data removed]",
      "text/plain": [
       "<Figure size 1000x600 with 1 Axes>"
      ]
     },
     "metadata": {},
     "output_type": "display_data"
    }
   ],
   "source": [
    "# prompt: using bar chart as well\n",
    "\n",
    "import pandas as pd\n",
    "import matplotlib.pyplot as plt\n",
    "\n",
    "# Load the dataset (assuming it's already created and saved as 'security_findings.csv')\n",
    "df = pd.read_csv('security_findings.csv')\n",
    "\n",
    "# Bar chart for Priority distribution\n",
    "plt.figure(figsize=(8, 6))\n",
    "df['Priority'].value_counts().plot(kind='bar', color=['skyblue', 'lightcoral', 'lightgreen'])\n",
    "plt.title('Distribution of Security Finding Priorities')\n",
    "plt.xlabel('Priority Level')\n",
    "plt.ylabel('Number of Findings')\n",
    "plt.xticks(rotation=0)  # Rotate x-axis labels for better readability\n",
    "plt.show()\n",
    "\n",
    "\n",
    "# Bar chart for Category distribution\n",
    "plt.figure(figsize=(10, 6))\n",
    "df['Category'].value_counts().plot(kind='bar', color='salmon')\n",
    "plt.title('Distribution of Security Finding Categories')\n",
    "plt.xlabel('Category')\n",
    "plt.ylabel('Number of Findings')\n",
    "plt.xticks(rotation=45, ha='right') # Rotate x-axis labels for better readability\n",
    "plt.show()"
   ]
  },
  {
   "cell_type": "code",
   "execution_count": null,
   "metadata": {
    "colab": {
     "base_uri": "https://localhost:8080/"
    },
    "id": "2Bnh2gMwH0A6",
    "outputId": "bd2311a8-1752-4d8e-fb9b-491652c235b4"
   },
   "outputs": [
    {
     "name": "stderr",
     "output_type": "stream",
     "text": [
      "/usr/local/lib/python3.10/dist-packages/huggingface_hub/utils/_auth.py:94: UserWarning: \n",
      "The secret `HF_TOKEN` does not exist in your Colab secrets.\n",
      "To authenticate with the Hugging Face Hub, create a token in your settings tab (https://huggingface.co/settings/tokens), set it as secret in your Google Colab and restart your session.\n",
      "You will be able to reuse this secret in all of your notebooks.\n",
      "Please note that authentication is recommended but still optional to access public models or datasets.\n",
      "  warnings.warn(\n",
      "Some weights of RobertaModel were not initialized from the model checkpoint at ehsanaghaei/SecureBERT and are newly initialized: ['roberta.pooler.dense.bias', 'roberta.pooler.dense.weight']\n",
      "You should probably TRAIN this model on a down-stream task to be able to use it for predictions and inference.\n"
     ]
    }
   ],
   "source": [
    "# get the NLP model from https://github.com/ehsanaghaei/SecureBERT\n",
    "from transformers import RobertaTokenizer, RobertaModel\n",
    "import torch\n",
    "\n",
    "# need that for preprocessing of BERT arch\n",
    "tokenizer = RobertaTokenizer.from_pretrained(\"ehsanaghaei/SecureBERT\")\n",
    "#actual model\n",
    "model = RobertaModel.from_pretrained(\"ehsanaghaei/SecureBERT\")\n",
    "\n"
   ]
  },
  {
   "cell_type": "code",
   "execution_count": null,
   "metadata": {
    "colab": {
     "base_uri": "https://localhost:8080/"
    },
    "id": "A_F-4tCUIkDi",
    "outputId": "1d3ad0ab-0574-4535-c3d6-5859cf61e831"
   },
   "outputs": [],
   "source": [
    "model"
   ]
  },
  {
   "cell_type": "code",
   "execution_count": null,
   "metadata": {
    "colab": {
     "base_uri": "https://localhost:8080/"
    },
    "id": "QBMxmJeSjmFU",
    "outputId": "d68c7b7f-68f0-4a38-cf34-e7b35e12a5b8"
   },
   "outputs": [
    {
     "name": "stdout",
     "output_type": "stream",
     "text": [
      "dict_keys(['input_ids', 'attention_mask'])\n"
     ]
    },
    {
     "data": {
      "text/plain": [
       "{'input_ids': tensor([[    0,   713,    16, 27443, 33362,   328,     2]]), 'attention_mask': tensor([[1, 1, 1, 1, 1, 1, 1]])}"
      ]
     },
     "execution_count": 7,
     "metadata": {},
     "output_type": "execute_result"
    }
   ],
   "source": [
    "#testing\n",
    "inputs = tokenizer(\"This is SecureBERT!\", return_tensors=\"pt\", padding=True, truncation=True)\n",
    "print(inputs.keys())\n",
    "inputs"
   ]
  },
  {
   "cell_type": "code",
   "execution_count": null,
   "metadata": {
    "colab": {
     "base_uri": "https://localhost:8080/"
    },
    "id": "oWiG9GeOOGmJ",
    "outputId": "4d5db960-f376-4d87-e864-929edb3a665d"
   },
   "outputs": [],
   "source": [
    "outputs = model(**inputs)\n",
    "print(outputs.keys())\n",
    "#last_hidden_states = outputs.last_hidden_state\n",
    "outputs"
   ]
  },
  {
   "cell_type": "code",
   "execution_count": null,
   "metadata": {
    "id": "b-qFCgOYPtMK"
   },
   "outputs": [],
   "source": [
    "from sklearn.model_selection import train_test_split\n",
    "from sklearn.preprocessing import LabelEncoder\n",
    "import pandas as pd\n",
    "\n",
    "#Now work on dataset\n",
    "#load, check\n",
    "df = pd.read_csv(\"security_findings.csv\")\n",
    "print(\"Initial columns:\", df.columns.tolist())\n",
    "\n",
    "# encoders for results\n",
    "priority_encoder = LabelEncoder()\n",
    "category_encoder = LabelEncoder()\n",
    "\n",
    "df['priority_encoded'] = priority_encoder.fit_transform(df['Priority'])\n",
    "df['category_encoded'] = category_encoder.fit_transform(df['Category'])\n",
    "\n",
    "# split the data\n",
    "train_df, eval_df = train_test_split(df, test_size=0.2, random_state=42)\n",
    "\n",
    "# Verify split data has encoded columns\n",
    "print(\"\\nTraining data columns:\", train_df.columns.tolist())"
   ]
  },
  {
   "cell_type": "code",
   "execution_count": null,
   "metadata": {
    "colab": {
     "base_uri": "https://localhost:8080/",
     "height": 206
    },
    "id": "CGJ4xqrnTawF",
    "outputId": "3a4f2492-dfb4-4b03-e60f-c804d68145f8"
   },
   "outputs": [
    {
     "data": {
      "application/vnd.google.colaboratory.intrinsic+json": {
       "summary": "{\n  \"name\": \"train_df\",\n  \"rows\": 80,\n  \"fields\": [\n    {\n      \"column\": \"ID\",\n      \"properties\": {\n        \"dtype\": \"string\",\n        \"num_unique_values\": 80,\n        \"samples\": [\n          \"SEC-025\",\n          \"SEC-056\",\n          \"SEC-008\"\n        ],\n        \"semantic_type\": \"\",\n        \"description\": \"\"\n      }\n    },\n    {\n      \"column\": \"Description\",\n      \"properties\": {\n        \"dtype\": \"category\",\n        \"num_unique_values\": 10,\n        \"samples\": [\n          \"Missing access controls in admin panel\",\n          \"Cross-site scripting (XSS) vulnerability in comment section\",\n          \"Buffer overflow vulnerability in input validation\"\n        ],\n        \"semantic_type\": \"\",\n        \"description\": \"\"\n      }\n    },\n    {\n      \"column\": \"Priority\",\n      \"properties\": {\n        \"dtype\": \"category\",\n        \"num_unique_values\": 3,\n        \"samples\": [\n          \"LOW\",\n          \"HIGH\",\n          \"MEDIUM\"\n        ],\n        \"semantic_type\": \"\",\n        \"description\": \"\"\n      }\n    },\n    {\n      \"column\": \"Category\",\n      \"properties\": {\n        \"dtype\": \"category\",\n        \"num_unique_values\": 5,\n        \"samples\": [\n          \"Access Control\",\n          \"Data Exposure\",\n          \"Authentication\"\n        ],\n        \"semantic_type\": \"\",\n        \"description\": \"\"\n      }\n    },\n    {\n      \"column\": \"priority_encoded\",\n      \"properties\": {\n        \"dtype\": \"number\",\n        \"std\": 0,\n        \"min\": 0,\n        \"max\": 2,\n        \"num_unique_values\": 3,\n        \"samples\": [\n          1,\n          0,\n          2\n        ],\n        \"semantic_type\": \"\",\n        \"description\": \"\"\n      }\n    },\n    {\n      \"column\": \"category_encoded\",\n      \"properties\": {\n        \"dtype\": \"number\",\n        \"std\": 1,\n        \"min\": 0,\n        \"max\": 4,\n        \"num_unique_values\": 5,\n        \"samples\": [\n          0,\n          2,\n          1\n        ],\n        \"semantic_type\": \"\",\n        \"description\": \"\"\n      }\n    }\n  ]\n}",
       "type": "dataframe",
       "variable_name": "train_df"
      },
      "text/html": [
       "\n",
       "  <div id=\"df-e8cb7f20-29a4-4943-b30f-01876ef014eb\" class=\"colab-df-container\">\n",
       "    <div>\n",
       "<style scoped>\n",
       "    .dataframe tbody tr th:only-of-type {\n",
       "        vertical-align: middle;\n",
       "    }\n",
       "\n",
       "    .dataframe tbody tr th {\n",
       "        vertical-align: top;\n",
       "    }\n",
       "\n",
       "    .dataframe thead th {\n",
       "        text-align: right;\n",
       "    }\n",
       "</style>\n",
       "<table border=\"1\" class=\"dataframe\">\n",
       "  <thead>\n",
       "    <tr style=\"text-align: right;\">\n",
       "      <th></th>\n",
       "      <th>ID</th>\n",
       "      <th>Description</th>\n",
       "      <th>Priority</th>\n",
       "      <th>Category</th>\n",
       "      <th>priority_encoded</th>\n",
       "      <th>category_encoded</th>\n",
       "    </tr>\n",
       "  </thead>\n",
       "  <tbody>\n",
       "    <tr>\n",
       "      <th>55</th>\n",
       "      <td>SEC-056</td>\n",
       "      <td>Authentication bypass in password reset functi...</td>\n",
       "      <td>LOW</td>\n",
       "      <td>Input Validation</td>\n",
       "      <td>1</td>\n",
       "      <td>4</td>\n",
       "    </tr>\n",
       "    <tr>\n",
       "      <th>88</th>\n",
       "      <td>SEC-089</td>\n",
       "      <td>Cross-site scripting (XSS) vulnerability in co...</td>\n",
       "      <td>LOW</td>\n",
       "      <td>Access Control</td>\n",
       "      <td>1</td>\n",
       "      <td>0</td>\n",
       "    </tr>\n",
       "    <tr>\n",
       "      <th>26</th>\n",
       "      <td>SEC-027</td>\n",
       "      <td>Outdated SSL certificate with known vulnerabil...</td>\n",
       "      <td>HIGH</td>\n",
       "      <td>Authentication</td>\n",
       "      <td>0</td>\n",
       "      <td>1</td>\n",
       "    </tr>\n",
       "    <tr>\n",
       "      <th>42</th>\n",
       "      <td>SEC-043</td>\n",
       "      <td>Insecure direct object references in API endpo...</td>\n",
       "      <td>HIGH</td>\n",
       "      <td>Authentication</td>\n",
       "      <td>0</td>\n",
       "      <td>1</td>\n",
       "    </tr>\n",
       "    <tr>\n",
       "      <th>69</th>\n",
       "      <td>SEC-070</td>\n",
       "      <td>SQL injection vulnerability found in login for...</td>\n",
       "      <td>LOW</td>\n",
       "      <td>Access Control</td>\n",
       "      <td>1</td>\n",
       "      <td>0</td>\n",
       "    </tr>\n",
       "  </tbody>\n",
       "</table>\n",
       "</div>\n",
       "    <div class=\"colab-df-buttons\">\n",
       "\n",
       "  <div class=\"colab-df-container\">\n",
       "    <button class=\"colab-df-convert\" onclick=\"convertToInteractive('df-e8cb7f20-29a4-4943-b30f-01876ef014eb')\"\n",
       "            title=\"Convert this dataframe to an interactive table.\"\n",
       "            style=\"display:none;\">\n",
       "\n",
       "  <svg xmlns=\"http://www.w3.org/2000/svg\" height=\"24px\" viewBox=\"0 -960 960 960\">\n",
       "    <path d=\"M120-120v-720h720v720H120Zm60-500h600v-160H180v160Zm220 220h160v-160H400v160Zm0 220h160v-160H400v160ZM180-400h160v-160H180v160Zm440 0h160v-160H620v160ZM180-180h160v-160H180v160Zm440 0h160v-160H620v160Z\"/>\n",
       "  </svg>\n",
       "    </button>\n",
       "\n",
       "  <style>\n",
       "    .colab-df-container {\n",
       "      display:flex;\n",
       "      gap: 12px;\n",
       "    }\n",
       "\n",
       "    .colab-df-convert {\n",
       "      background-color: #E8F0FE;\n",
       "      border: none;\n",
       "      border-radius: 50%;\n",
       "      cursor: pointer;\n",
       "      display: none;\n",
       "      fill: #1967D2;\n",
       "      height: 32px;\n",
       "      padding: 0 0 0 0;\n",
       "      width: 32px;\n",
       "    }\n",
       "\n",
       "    .colab-df-convert:hover {\n",
       "      background-color: #E2EBFA;\n",
       "      box-shadow: 0px 1px 2px rgba(60, 64, 67, 0.3), 0px 1px 3px 1px rgba(60, 64, 67, 0.15);\n",
       "      fill: #174EA6;\n",
       "    }\n",
       "\n",
       "    .colab-df-buttons div {\n",
       "      margin-bottom: 4px;\n",
       "    }\n",
       "\n",
       "    [theme=dark] .colab-df-convert {\n",
       "      background-color: #3B4455;\n",
       "      fill: #D2E3FC;\n",
       "    }\n",
       "\n",
       "    [theme=dark] .colab-df-convert:hover {\n",
       "      background-color: #434B5C;\n",
       "      box-shadow: 0px 1px 3px 1px rgba(0, 0, 0, 0.15);\n",
       "      filter: drop-shadow(0px 1px 2px rgba(0, 0, 0, 0.3));\n",
       "      fill: #FFFFFF;\n",
       "    }\n",
       "  </style>\n",
       "\n",
       "    <script>\n",
       "      const buttonEl =\n",
       "        document.querySelector('#df-e8cb7f20-29a4-4943-b30f-01876ef014eb button.colab-df-convert');\n",
       "      buttonEl.style.display =\n",
       "        google.colab.kernel.accessAllowed ? 'block' : 'none';\n",
       "\n",
       "      async function convertToInteractive(key) {\n",
       "        const element = document.querySelector('#df-e8cb7f20-29a4-4943-b30f-01876ef014eb');\n",
       "        const dataTable =\n",
       "          await google.colab.kernel.invokeFunction('convertToInteractive',\n",
       "                                                    [key], {});\n",
       "        if (!dataTable) return;\n",
       "\n",
       "        const docLinkHtml = 'Like what you see? Visit the ' +\n",
       "          '<a target=\"_blank\" href=https://colab.research.google.com/notebooks/data_table.ipynb>data table notebook</a>'\n",
       "          + ' to learn more about interactive tables.';\n",
       "        element.innerHTML = '';\n",
       "        dataTable['output_type'] = 'display_data';\n",
       "        await google.colab.output.renderOutput(dataTable, element);\n",
       "        const docLink = document.createElement('div');\n",
       "        docLink.innerHTML = docLinkHtml;\n",
       "        element.appendChild(docLink);\n",
       "      }\n",
       "    </script>\n",
       "  </div>\n",
       "\n",
       "\n",
       "<div id=\"df-775ad95e-4299-4465-9f00-fedbe46ea025\">\n",
       "  <button class=\"colab-df-quickchart\" onclick=\"quickchart('df-775ad95e-4299-4465-9f00-fedbe46ea025')\"\n",
       "            title=\"Suggest charts\"\n",
       "            style=\"display:none;\">\n",
       "\n",
       "<svg xmlns=\"http://www.w3.org/2000/svg\" height=\"24px\"viewBox=\"0 0 24 24\"\n",
       "     width=\"24px\">\n",
       "    <g>\n",
       "        <path d=\"M19 3H5c-1.1 0-2 .9-2 2v14c0 1.1.9 2 2 2h14c1.1 0 2-.9 2-2V5c0-1.1-.9-2-2-2zM9 17H7v-7h2v7zm4 0h-2V7h2v10zm4 0h-2v-4h2v4z\"/>\n",
       "    </g>\n",
       "</svg>\n",
       "  </button>\n",
       "\n",
       "<style>\n",
       "  .colab-df-quickchart {\n",
       "      --bg-color: #E8F0FE;\n",
       "      --fill-color: #1967D2;\n",
       "      --hover-bg-color: #E2EBFA;\n",
       "      --hover-fill-color: #174EA6;\n",
       "      --disabled-fill-color: #AAA;\n",
       "      --disabled-bg-color: #DDD;\n",
       "  }\n",
       "\n",
       "  [theme=dark] .colab-df-quickchart {\n",
       "      --bg-color: #3B4455;\n",
       "      --fill-color: #D2E3FC;\n",
       "      --hover-bg-color: #434B5C;\n",
       "      --hover-fill-color: #FFFFFF;\n",
       "      --disabled-bg-color: #3B4455;\n",
       "      --disabled-fill-color: #666;\n",
       "  }\n",
       "\n",
       "  .colab-df-quickchart {\n",
       "    background-color: var(--bg-color);\n",
       "    border: none;\n",
       "    border-radius: 50%;\n",
       "    cursor: pointer;\n",
       "    display: none;\n",
       "    fill: var(--fill-color);\n",
       "    height: 32px;\n",
       "    padding: 0;\n",
       "    width: 32px;\n",
       "  }\n",
       "\n",
       "  .colab-df-quickchart:hover {\n",
       "    background-color: var(--hover-bg-color);\n",
       "    box-shadow: 0 1px 2px rgba(60, 64, 67, 0.3), 0 1px 3px 1px rgba(60, 64, 67, 0.15);\n",
       "    fill: var(--button-hover-fill-color);\n",
       "  }\n",
       "\n",
       "  .colab-df-quickchart-complete:disabled,\n",
       "  .colab-df-quickchart-complete:disabled:hover {\n",
       "    background-color: var(--disabled-bg-color);\n",
       "    fill: var(--disabled-fill-color);\n",
       "    box-shadow: none;\n",
       "  }\n",
       "\n",
       "  .colab-df-spinner {\n",
       "    border: 2px solid var(--fill-color);\n",
       "    border-color: transparent;\n",
       "    border-bottom-color: var(--fill-color);\n",
       "    animation:\n",
       "      spin 1s steps(1) infinite;\n",
       "  }\n",
       "\n",
       "  @keyframes spin {\n",
       "    0% {\n",
       "      border-color: transparent;\n",
       "      border-bottom-color: var(--fill-color);\n",
       "      border-left-color: var(--fill-color);\n",
       "    }\n",
       "    20% {\n",
       "      border-color: transparent;\n",
       "      border-left-color: var(--fill-color);\n",
       "      border-top-color: var(--fill-color);\n",
       "    }\n",
       "    30% {\n",
       "      border-color: transparent;\n",
       "      border-left-color: var(--fill-color);\n",
       "      border-top-color: var(--fill-color);\n",
       "      border-right-color: var(--fill-color);\n",
       "    }\n",
       "    40% {\n",
       "      border-color: transparent;\n",
       "      border-right-color: var(--fill-color);\n",
       "      border-top-color: var(--fill-color);\n",
       "    }\n",
       "    60% {\n",
       "      border-color: transparent;\n",
       "      border-right-color: var(--fill-color);\n",
       "    }\n",
       "    80% {\n",
       "      border-color: transparent;\n",
       "      border-right-color: var(--fill-color);\n",
       "      border-bottom-color: var(--fill-color);\n",
       "    }\n",
       "    90% {\n",
       "      border-color: transparent;\n",
       "      border-bottom-color: var(--fill-color);\n",
       "    }\n",
       "  }\n",
       "</style>\n",
       "\n",
       "  <script>\n",
       "    async function quickchart(key) {\n",
       "      const quickchartButtonEl =\n",
       "        document.querySelector('#' + key + ' button');\n",
       "      quickchartButtonEl.disabled = true;  // To prevent multiple clicks.\n",
       "      quickchartButtonEl.classList.add('colab-df-spinner');\n",
       "      try {\n",
       "        const charts = await google.colab.kernel.invokeFunction(\n",
       "            'suggestCharts', [key], {});\n",
       "      } catch (error) {\n",
       "        console.error('Error during call to suggestCharts:', error);\n",
       "      }\n",
       "      quickchartButtonEl.classList.remove('colab-df-spinner');\n",
       "      quickchartButtonEl.classList.add('colab-df-quickchart-complete');\n",
       "    }\n",
       "    (() => {\n",
       "      let quickchartButtonEl =\n",
       "        document.querySelector('#df-775ad95e-4299-4465-9f00-fedbe46ea025 button');\n",
       "      quickchartButtonEl.style.display =\n",
       "        google.colab.kernel.accessAllowed ? 'block' : 'none';\n",
       "    })();\n",
       "  </script>\n",
       "</div>\n",
       "\n",
       "    </div>\n",
       "  </div>\n"
      ],
      "text/plain": [
       "         ID                                        Description Priority  \\\n",
       "55  SEC-056  Authentication bypass in password reset functi...      LOW   \n",
       "88  SEC-089  Cross-site scripting (XSS) vulnerability in co...      LOW   \n",
       "26  SEC-027  Outdated SSL certificate with known vulnerabil...     HIGH   \n",
       "42  SEC-043  Insecure direct object references in API endpo...     HIGH   \n",
       "69  SEC-070  SQL injection vulnerability found in login for...      LOW   \n",
       "\n",
       "            Category  priority_encoded  category_encoded  \n",
       "55  Input Validation                 1                 4  \n",
       "88    Access Control                 1                 0  \n",
       "26    Authentication                 0                 1  \n",
       "42    Authentication                 0                 1  \n",
       "69    Access Control                 1                 0  "
      ]
     },
     "execution_count": 10,
     "metadata": {},
     "output_type": "execute_result"
    }
   ],
   "source": [
    "train_df.head()"
   ]
  },
  {
   "cell_type": "code",
   "execution_count": null,
   "metadata": {
    "colab": {
     "base_uri": "https://localhost:8080/"
    },
    "id": "PCc598krVV56",
    "outputId": "c1c23da4-8791-4782-c1a5-1d915a13a274"
   },
   "outputs": [
    {
     "data": {
      "text/plain": [
       "dict_keys(['input_ids', 'attention_mask'])"
      ]
     },
     "execution_count": 11,
     "metadata": {},
     "output_type": "execute_result"
    }
   ],
   "source": [
    "# Now BERTs preprocess of tokenizing\n",
    "# Tokenize training data\n",
    "train_encodings = tokenizer(\n",
    "    train_df['Description'].tolist(),\n",
    "    truncation=True,\n",
    "    padding=True,\n",
    "    return_tensors='pt'\n",
    ")\n",
    "\n",
    "# Tokenize evaluation data\n",
    "eval_encodings = tokenizer(\n",
    "    eval_df['Description'].tolist(),\n",
    "    truncation=True,\n",
    "    padding=True,\n",
    "    return_tensors='pt'\n",
    ")\n",
    "\n",
    "train_encodings.keys()"
   ]
  },
  {
   "cell_type": "code",
   "execution_count": null,
   "metadata": {
    "id": "xPSRQz2vahx5"
   },
   "outputs": [],
   "source": [
    "#Convert labels to tensors\n",
    "train_priority_labels = torch.tensor(train_df['priority_encoded'].values)\n",
    "train_category_labels = torch.tensor(train_df['category_encoded'].values)\n",
    "\n",
    "eval_priority_labels = torch.tensor(eval_df['priority_encoded'].values)\n",
    "eval_category_labels = torch.tensor(eval_df['category_encoded'].values)"
   ]
  },
  {
   "cell_type": "code",
   "execution_count": null,
   "metadata": {
    "colab": {
     "base_uri": "https://localhost:8080/"
    },
    "id": "K_HE9e6_Ycea",
    "outputId": "e5adff1e-f06e-47a9-f19b-40a7cee970ad"
   },
   "outputs": [
    {
     "name": "stdout",
     "output_type": "stream",
     "text": [
      "\n",
      "Shapes:\n",
      "Train encodings: torch.Size([80, 13])\n",
      "Train priority labels: torch.Size([80])\n",
      "Train category labels: torch.Size([80])\n",
      "\n",
      "Unique values:\n",
      "Priority classes: ['HIGH' 'LOW' 'MEDIUM']\n",
      "Category classes: ['Access Control' 'Authentication' 'Data Exposure' 'Injection'\n",
      " 'Input Validation']\n"
     ]
    }
   ],
   "source": [
    "# Check\n",
    "print(\"\\n Shapes:\")\n",
    "print(\"Train encodings:\", train_encodings['input_ids'].shape)\n",
    "print(\"Train priority labels:\", train_priority_labels.shape)\n",
    "print(\"Train category labels:\", train_category_labels.shape)\n",
    "print(\"\\nUnique values:\")\n",
    "print(\"Priority classes:\", priority_encoder.classes_)\n",
    "print(\"Category classes:\", category_encoder.classes_)"
   ]
  },
  {
   "cell_type": "code",
   "execution_count": null,
   "metadata": {
    "id": "yp1mR-_ma5AU"
   },
   "outputs": [],
   "source": [
    "# Add classification heads in pt way\n",
    "priority_classifier = torch.nn.Linear(model.config.hidden_size, len(priority_encoder.classes_))\n",
    "category_classifier = torch.nn.Linear(model.config.hidden_size, len(category_encoder.classes_))\n"
   ]
  },
  {
   "cell_type": "code",
   "execution_count": null,
   "metadata": {
    "id": "H1v92E98bEFe"
   },
   "outputs": [],
   "source": [
    "# training parameters\n",
    "learning_rate = 1e-5\n",
    "num_epochs = 20\n",
    "batch_size = 20\n",
    "\n",
    "# optimizer\n",
    "optimizer = torch.optim.Adam([\n",
    "    {'params': model.parameters()},\n",
    "    {'params': priority_classifier.parameters()},\n",
    "    {'params': category_classifier.parameters()}\n",
    "], lr=learning_rate)"
   ]
  },
  {
   "cell_type": "code",
   "execution_count": null,
   "metadata": {
    "id": "skW_lZ8EbqKt"
   },
   "outputs": [],
   "source": [
    "# loss function\n",
    "criterion = torch.nn.CrossEntropyLoss()"
   ]
  },
  {
   "cell_type": "code",
   "execution_count": null,
   "metadata": {
    "colab": {
     "base_uri": "https://localhost:8080/"
    },
    "id": "7Tt3HILmb98S",
    "outputId": "262871bc-87a0-49e7-d3e1-66795f2d07ef"
   },
   "outputs": [
    {
     "name": "stdout",
     "output_type": "stream",
     "text": [
      "Using device: cpu\n"
     ]
    }
   ],
   "source": [
    "# training\n",
    "device = torch.device('cuda' if torch.cuda.is_available() else 'cpu')\n",
    "print(\"Using device:\", device)"
   ]
  },
  {
   "cell_type": "code",
   "execution_count": null,
   "metadata": {
    "id": "h-dbUMexcI9b"
   },
   "outputs": [],
   "source": [
    "# Move models to device\n",
    "model = model.to(device)\n",
    "priority_classifier = priority_classifier.to(device)\n",
    "category_classifier = category_classifier.to(device)"
   ]
  },
  {
   "cell_type": "code",
   "execution_count": null,
   "metadata": {
    "colab": {
     "base_uri": "https://localhost:8080/"
    },
    "id": "HdwgbQTPcMrV",
    "outputId": "d41aec6b-90b1-4959-b9f8-a6867c9a07d4"
   },
   "outputs": [
    {
     "name": "stdout",
     "output_type": "stream",
     "text": [
      "Epoch 1/20, Average Loss: 2.6519\n",
      "Epoch 2/20, Average Loss: 2.6918\n",
      "Epoch 3/20, Average Loss: 2.6971\n",
      "Epoch 4/20, Average Loss: 2.6433\n",
      "Epoch 5/20, Average Loss: 2.6890\n",
      "Epoch 6/20, Average Loss: 2.6536\n",
      "Epoch 7/20, Average Loss: 2.6582\n",
      "Epoch 8/20, Average Loss: 2.6102\n",
      "Epoch 9/20, Average Loss: 2.6075\n",
      "Epoch 10/20, Average Loss: 2.5811\n",
      "Epoch 11/20, Average Loss: 2.5388\n",
      "Epoch 12/20, Average Loss: 2.5788\n",
      "Epoch 13/20, Average Loss: 2.4990\n",
      "Epoch 14/20, Average Loss: 2.4807\n",
      "Epoch 15/20, Average Loss: 2.4445\n",
      "Epoch 16/20, Average Loss: 2.5215\n",
      "Epoch 17/20, Average Loss: 2.4787\n",
      "Epoch 18/20, Average Loss: 2.4901\n",
      "Epoch 19/20, Average Loss: 2.4426\n",
      "Epoch 20/20, Average Loss: 2.4117\n",
      "Training completed!\n"
     ]
    }
   ],
   "source": [
    "# Training loop\n",
    "for epoch in range(num_epochs):\n",
    "    model.train()\n",
    "    total_loss = 0\n",
    "\n",
    "    # Process in batches\n",
    "    for i in range(0, len(train_df), batch_size):\n",
    "        batch_encodings = {\n",
    "            'input_ids': train_encodings['input_ids'][i:i+batch_size].to(device),\n",
    "            'attention_mask': train_encodings['attention_mask'][i:i+batch_size].to(device)\n",
    "        }\n",
    "        batch_priority = train_priority_labels[i:i+batch_size].to(device)\n",
    "        batch_category = train_category_labels[i:i+batch_size].to(device)\n",
    "\n",
    "        # Forward pass\n",
    "        outputs = model(**batch_encodings)\n",
    "        pooled_output = outputs.last_hidden_state[:, 0, :]\n",
    "\n",
    "        # Get predictions\n",
    "        priority_output = priority_classifier(pooled_output)\n",
    "        category_output = category_classifier(pooled_output)\n",
    "\n",
    "        # Calculate loss\n",
    "        priority_loss = criterion(priority_output, batch_priority)\n",
    "        category_loss = criterion(category_output, batch_category)\n",
    "        loss = priority_loss + category_loss\n",
    "\n",
    "        # Backward pass\n",
    "        optimizer.zero_grad()\n",
    "        loss.backward()\n",
    "        optimizer.step()\n",
    "\n",
    "        total_loss += loss.item()\n",
    "\n",
    "    # Print epoch stats\n",
    "    avg_loss = total_loss / (len(train_df) / batch_size)\n",
    "    print(f\"Epoch {epoch+1}/{num_epochs}, Average Loss: {avg_loss:.4f}\")\n",
    "\n",
    "print(\"Training completed!\")"
   ]
  },
  {
   "cell_type": "code",
   "execution_count": null,
   "metadata": {
    "colab": {
     "base_uri": "https://localhost:8080/"
    },
    "id": "gc6K9gG7fPio",
    "outputId": "e2b5e336-c67e-4ff7-dd10-accccc02cd39"
   },
   "outputs": [
    {
     "name": "stdout",
     "output_type": "stream",
     "text": [
      "\n",
      "Test Accuracy:\n",
      "Priority Accuracy: 20.00%\n",
      "Category Accuracy: 25.00%\n"
     ]
    }
   ],
   "source": [
    "# Evaluation\n",
    "model.eval()\n",
    "priority_classifier.eval()\n",
    "category_classifier.eval()\n",
    "\n",
    "correct_priority = 0\n",
    "correct_category = 0\n",
    "total = 0\n",
    "\n",
    "with torch.no_grad():\n",
    "    for i in range(0, len(eval_df), batch_size):\n",
    "        batch_encodings = {\n",
    "            'input_ids': eval_encodings['input_ids'][i:i+batch_size].to(device),\n",
    "            'attention_mask': eval_encodings['attention_mask'][i:i+batch_size].to(device)\n",
    "        }\n",
    "        batch_priority = eval_priority_labels[i:i+batch_size].to(device)\n",
    "        batch_category = eval_category_labels[i:i+batch_size].to(device)\n",
    "\n",
    "        # Get predictions\n",
    "        outputs = model(**batch_encodings)\n",
    "        pooled_output = outputs.last_hidden_state[:, 0, :]\n",
    "\n",
    "        priority_output = priority_classifier(pooled_output)\n",
    "        category_output = category_classifier(pooled_output)\n",
    "\n",
    "        # Calculate accuracy\n",
    "        _, predicted_priority = torch.max(priority_output, 1)\n",
    "        _, predicted_category = torch.max(category_output, 1)\n",
    "\n",
    "        correct_priority += (predicted_priority == batch_priority).sum().item()\n",
    "        correct_category += (predicted_category == batch_category).sum().item()\n",
    "        total += batch_priority.size(0)\n",
    "\n",
    "priority_accuracy = 100 * correct_priority / total\n",
    "category_accuracy = 100 * correct_category / total\n",
    "\n",
    "print(f'\\nTest Accuracy:')\n",
    "print(f'Priority Accuracy: {priority_accuracy:.2f}%')\n",
    "print(f'Category Accuracy: {category_accuracy:.2f}%')"
   ]
  },
  {
   "cell_type": "code",
   "execution_count": null,
   "metadata": {
    "colab": {
     "base_uri": "https://localhost:8080/"
    },
    "id": "hepqxFcRfgzi",
    "outputId": "0144f30b-5594-4f93-c8d8-8d215aadaa3f"
   },
   "outputs": [
    {
     "name": "stdout",
     "output_type": "stream",
     "text": [
      "\n",
      "Testing predictions:\n",
      "\n",
      "Input: SQL injection vulnerability in login form\n",
      "Priority: LOW (Confidence: 35.03%)\n",
      "Category: Injection (Confidence: 21.09%)\n",
      "\n",
      "Input: Weak password policy allows brute force attacks\n",
      "Priority: LOW (Confidence: 35.00%)\n",
      "Category: Injection (Confidence: 21.09%)\n",
      "\n",
      "Input: Sensitive data exposed in error logs\n",
      "Priority: LOW (Confidence: 35.02%)\n",
      "Category: Injection (Confidence: 21.08%)\n"
     ]
    }
   ],
   "source": [
    "def predict_model(text):\n",
    "    # Prepare model for inference\n",
    "    model.eval()\n",
    "    priority_classifier.eval()\n",
    "    category_classifier.eval()\n",
    "\n",
    "    # Tokenize input\n",
    "    inputs = tokenizer(\n",
    "        text,\n",
    "        truncation=True,\n",
    "        padding=True,\n",
    "        return_tensors=\"pt\"\n",
    "    ).to(device)\n",
    "\n",
    "    with torch.no_grad():\n",
    "        # Get model outputs\n",
    "        outputs = model(**inputs)\n",
    "        pooled_output = outputs.last_hidden_state[:, 0, :]\n",
    "\n",
    "        # Get predictions\n",
    "        priority_output = priority_classifier(pooled_output)\n",
    "        category_output = category_classifier(pooled_output)\n",
    "\n",
    "        # Convert to probabilities\n",
    "        priority_probs = torch.softmax(priority_output, dim=1)\n",
    "        category_probs = torch.softmax(category_output, dim=1)\n",
    "\n",
    "        # Get predicted classes\n",
    "        priority_pred = torch.argmax(priority_probs, dim=1).item()\n",
    "        category_pred = torch.argmax(category_probs, dim=1).item()\n",
    "\n",
    "        # Convert back to original labels\n",
    "        priority = priority_encoder.inverse_transform([priority_pred])[0]\n",
    "        category = category_encoder.inverse_transform([category_pred])[0]\n",
    "\n",
    "        # Get confidence scores\n",
    "        priority_confidence = priority_probs[0][priority_pred].item()\n",
    "        category_confidence = category_probs[0][category_pred].item()\n",
    "\n",
    "    return {\n",
    "        'priority': priority,\n",
    "        'priority_confidence': f\"{priority_confidence:.2%}\",\n",
    "        'category': category,\n",
    "        'category_confidence': f\"{category_confidence:.2%}\"\n",
    "    }\n",
    "\n",
    "# Test with some examples\n",
    "test_texts = [\n",
    "    \"SQL injection vulnerability in login form\",\n",
    "    \"Weak password policy allows brute force attacks\",\n",
    "    \"Sensitive data exposed in error logs\"\n",
    "]\n",
    "\n",
    "print(\"\\nTesting predictions:\")\n",
    "for text in test_texts:\n",
    "    result = predict_model(text)\n",
    "    print(f\"\\nInput: {text}\")\n",
    "    print(f\"Priority: {result['priority']} (Confidence: {result['priority_confidence']})\")\n",
    "    print(f\"Category: {result['category']} (Confidence: {result['category_confidence']})\")"
   ]
  },
  {
   "cell_type": "code",
   "execution_count": null,
   "metadata": {
    "colab": {
     "base_uri": "https://localhost:8080/"
    },
    "id": "6z3JVC5pz7QN",
    "outputId": "f40c287f-97bb-4ac6-d7ce-fa5a6d4c7920"
   },
   "outputs": [
    {
     "name": "stderr",
     "output_type": "stream",
     "text": [
      "Some weights of RobertaModel were not initialized from the model checkpoint at ehsanaghaei/SecureBERT and are newly initialized: ['roberta.pooler.dense.bias', 'roberta.pooler.dense.weight']\n",
      "You should probably TRAIN this model on a down-stream task to be able to use it for predictions and inference.\n"
     ]
    }
   ],
   "source": [
    "# # changing architecure a bit for classification\n",
    "\n",
    "# # Reset models and move to device\n",
    "# model = RobertaModel.from_pretrained(\"ehsanaghaei/SecureBERT\").to(device)\n",
    "\n",
    "\n",
    "# # More complex classification heads\n",
    "# priority_classifier = torch.nn.Sequential(\n",
    "#     torch.nn.Linear(model.config.hidden_size, 512),\n",
    "#     torch.nn.ReLU(),\n",
    "#     torch.nn.Dropout(0.3),\n",
    "#     torch.nn.Linear(512, 256),\n",
    "#     torch.nn.ReLU(),\n",
    "#     torch.nn.Dropout(0.3),\n",
    "#     torch.nn.Linear(256, len(priority_encoder.classes_))\n",
    "# ).to(device)\n",
    "\n",
    "# category_classifier = torch.nn.Sequential(\n",
    "#     torch.nn.Linear(model.config.hidden_size, 512),\n",
    "#     torch.nn.ReLU(),\n",
    "#     torch.nn.Dropout(0.3),\n",
    "#     torch.nn.Linear(512, 256),\n",
    "#     torch.nn.ReLU(),\n",
    "#     torch.nn.Dropout(0.3),\n",
    "#     torch.nn.Linear(256, len(category_encoder.classes_))\n",
    "# ).to(device)"
   ]
  },
  {
   "cell_type": "markdown",
   "metadata": {
    "id": "YJG7YB3i12CD"
   },
   "source": [
    "# Actual DataSet\n",
    "\n",
    "Prepare dataset based on CWE, CVE and other public database"
   ]
  },
  {
   "cell_type": "markdown",
   "metadata": {
    "id": "94ouZb13Rh7i"
   },
   "source": [
    "Step 1. Download all the NVD feeds\n",
    "Step 2. Read all feeds and created the dataset in the below CSV:\n",
    "\n",
    "\n",
    "CVE ID,Description,Impact,Published Date,CWE,CVSS:2.0.baseScore,CVSS:2.0.exploitabilityScore,CVSS:3.0.baseScore,CVSS:3.0.exploitabilityScore,CVSS:3.1.baseScore,CVSS:3.1.exploitabilityScore,CVSS:4.0.baseScore,CVSS:4.0.exploitabilityScore"
   ]
  },
  {
   "cell_type": "markdown",
   "metadata": {
    "id": "YJG7YB3i12CD"
   },
   "source": [
    "# Data Creation  \n",
    "\n",
    "## Step 1. Download all the NVD feeds\n",
    "\n",
    "## Step 2. Read all feeds and created the dataset in the below CSV:\n",
    "\n",
    "CVE ID,Description,Impact,Published Date,CWE,CVSS:2.0.baseScore,CVSS:2.0.exploitabilityScore,CVSS:3.0.baseScore,CVSS:3.0.exploitabilityScore,CVSS:3.1.baseScore,CVSS:3.1.exploitabilityScore,CVSS:4.0.baseScore,CVSS:4.0.exploitabilityScore\n",
    "\n",
    "## Step 3. Run Script - cveExtraction.py\n",
    "Script will read all feeds under cve_data folder and create the feeds in the given format in Step2 under output folder\n"
   ]
  },
  {
   "cell_type": "markdown",
   "metadata": {
    "id": "94ouZb13Rh7i"
   },
   "source": [
    "# Data Refinement \n",
    "\n"
   ]
  },
  {
   "cell_type": "code",
   "execution_count": 253,
   "metadata": {},
   "outputs": [
    {
     "data": {
      "text/html": [
       "<div>\n",
       "<style scoped>\n",
       "    .dataframe tbody tr th:only-of-type {\n",
       "        vertical-align: middle;\n",
       "    }\n",
       "\n",
       "    .dataframe tbody tr th {\n",
       "        vertical-align: top;\n",
       "    }\n",
       "\n",
       "    .dataframe thead th {\n",
       "        text-align: right;\n",
       "    }\n",
       "</style>\n",
       "<table border=\"1\" class=\"dataframe\">\n",
       "  <thead>\n",
       "    <tr style=\"text-align: right;\">\n",
       "      <th></th>\n",
       "      <th>CVE ID</th>\n",
       "      <th>Description</th>\n",
       "      <th>Impact</th>\n",
       "      <th>Published Date</th>\n",
       "      <th>CWE</th>\n",
       "      <th>CVSS:2.0.baseScore</th>\n",
       "      <th>CVSS:2.0.exploitabilityScore</th>\n",
       "      <th>CVSS:3.0.baseScore</th>\n",
       "      <th>CVSS:3.0.exploitabilityScore</th>\n",
       "      <th>CVSS:3.1.baseScore</th>\n",
       "      <th>CVSS:3.1.exploitabilityScore</th>\n",
       "      <th>CVSS:4.0.baseScore</th>\n",
       "      <th>CVSS:4.0.exploitabilityScore</th>\n",
       "    </tr>\n",
       "  </thead>\n",
       "  <tbody>\n",
       "    <tr>\n",
       "      <th>0</th>\n",
       "      <td>CVE-1999-0001</td>\n",
       "      <td>ip_input.c in BSD-derived TCP/IP implementatio...</td>\n",
       "      <td>{\"baseMetricV2\": {\"cvssV2\": {\"version\": \"2.0\",...</td>\n",
       "      <td>1999-12-30T05:00Z</td>\n",
       "      <td>CWE-20</td>\n",
       "      <td>5.0</td>\n",
       "      <td>10.0</td>\n",
       "      <td>NONE</td>\n",
       "      <td>NONE</td>\n",
       "      <td>NONE</td>\n",
       "      <td>NONE</td>\n",
       "      <td>NONE</td>\n",
       "      <td>NONE</td>\n",
       "    </tr>\n",
       "    <tr>\n",
       "      <th>1</th>\n",
       "      <td>CVE-1999-0002</td>\n",
       "      <td>Buffer overflow in NFS mountd gives root acces...</td>\n",
       "      <td>{\"baseMetricV2\": {\"cvssV2\": {\"version\": \"2.0\",...</td>\n",
       "      <td>1998-10-12T04:00Z</td>\n",
       "      <td>CWE-119</td>\n",
       "      <td>10.0</td>\n",
       "      <td>10.0</td>\n",
       "      <td>NONE</td>\n",
       "      <td>NONE</td>\n",
       "      <td>NONE</td>\n",
       "      <td>NONE</td>\n",
       "      <td>NONE</td>\n",
       "      <td>NONE</td>\n",
       "    </tr>\n",
       "  </tbody>\n",
       "</table>\n",
       "</div>"
      ],
      "text/plain": [
       "          CVE ID                                        Description  \\\n",
       "0  CVE-1999-0001  ip_input.c in BSD-derived TCP/IP implementatio...   \n",
       "1  CVE-1999-0002  Buffer overflow in NFS mountd gives root acces...   \n",
       "\n",
       "                                              Impact     Published Date  \\\n",
       "0  {\"baseMetricV2\": {\"cvssV2\": {\"version\": \"2.0\",...  1999-12-30T05:00Z   \n",
       "1  {\"baseMetricV2\": {\"cvssV2\": {\"version\": \"2.0\",...  1998-10-12T04:00Z   \n",
       "\n",
       "       CWE CVSS:2.0.baseScore CVSS:2.0.exploitabilityScore CVSS:3.0.baseScore  \\\n",
       "0   CWE-20                5.0                         10.0               NONE   \n",
       "1  CWE-119               10.0                         10.0               NONE   \n",
       "\n",
       "  CVSS:3.0.exploitabilityScore CVSS:3.1.baseScore  \\\n",
       "0                         NONE               NONE   \n",
       "1                         NONE               NONE   \n",
       "\n",
       "  CVSS:3.1.exploitabilityScore CVSS:4.0.baseScore CVSS:4.0.exploitabilityScore  \n",
       "0                         NONE               NONE                         NONE  \n",
       "1                         NONE               NONE                         NONE  "
      ]
     },
     "execution_count": 253,
     "metadata": {},
     "output_type": "execute_result"
    }
   ],
   "source": [
    "df = pd.read_csv(\"output/nvd_data_2002.csv\")\n",
    "df.head(2)"
   ]
  },
  {
   "cell_type": "code",
   "execution_count": 254,
   "metadata": {},
   "outputs": [
    {
     "data": {
      "text/html": [
       "<div>\n",
       "<style scoped>\n",
       "    .dataframe tbody tr th:only-of-type {\n",
       "        vertical-align: middle;\n",
       "    }\n",
       "\n",
       "    .dataframe tbody tr th {\n",
       "        vertical-align: top;\n",
       "    }\n",
       "\n",
       "    .dataframe thead th {\n",
       "        text-align: right;\n",
       "    }\n",
       "</style>\n",
       "<table border=\"1\" class=\"dataframe\">\n",
       "  <thead>\n",
       "    <tr style=\"text-align: right;\">\n",
       "      <th></th>\n",
       "      <th>CVE ID</th>\n",
       "      <th>Description</th>\n",
       "      <th>Impact</th>\n",
       "      <th>Published Date</th>\n",
       "      <th>CWE</th>\n",
       "      <th>CVSS:2.0.baseScore</th>\n",
       "      <th>CVSS:2.0.exploitabilityScore</th>\n",
       "      <th>CVSS:3.0.baseScore</th>\n",
       "      <th>CVSS:3.0.exploitabilityScore</th>\n",
       "      <th>CVSS:3.1.baseScore</th>\n",
       "      <th>CVSS:3.1.exploitabilityScore</th>\n",
       "      <th>CVSS:4.0.baseScore</th>\n",
       "      <th>CVSS:4.0.exploitabilityScore</th>\n",
       "    </tr>\n",
       "  </thead>\n",
       "  <tbody>\n",
       "    <tr>\n",
       "      <th>0</th>\n",
       "      <td>CVE-2024-0001</td>\n",
       "      <td>A condition exists in FlashArray Purity whereb...</td>\n",
       "      <td>{\"baseMetricV3\": {\"cvssV3\": {\"version\": \"3.1\",...</td>\n",
       "      <td>2024-09-23T18:15Z</td>\n",
       "      <td>CWE-1188</td>\n",
       "      <td>NONE</td>\n",
       "      <td>NONE</td>\n",
       "      <td>NONE</td>\n",
       "      <td>NONE</td>\n",
       "      <td>9.8</td>\n",
       "      <td>3.9</td>\n",
       "      <td>NONE</td>\n",
       "      <td>NONE</td>\n",
       "    </tr>\n",
       "    <tr>\n",
       "      <th>1</th>\n",
       "      <td>CVE-2024-0002</td>\n",
       "      <td>A condition exists in FlashArray Purity whereb...</td>\n",
       "      <td>{\"baseMetricV3\": {\"cvssV3\": {\"version\": \"3.1\",...</td>\n",
       "      <td>2024-09-23T18:15Z</td>\n",
       "      <td>NVD-CWE-noinfo</td>\n",
       "      <td>NONE</td>\n",
       "      <td>NONE</td>\n",
       "      <td>NONE</td>\n",
       "      <td>NONE</td>\n",
       "      <td>9.8</td>\n",
       "      <td>3.9</td>\n",
       "      <td>NONE</td>\n",
       "      <td>NONE</td>\n",
       "    </tr>\n",
       "  </tbody>\n",
       "</table>\n",
       "</div>"
      ],
      "text/plain": [
       "          CVE ID                                        Description  \\\n",
       "0  CVE-2024-0001  A condition exists in FlashArray Purity whereb...   \n",
       "1  CVE-2024-0002  A condition exists in FlashArray Purity whereb...   \n",
       "\n",
       "                                              Impact     Published Date  \\\n",
       "0  {\"baseMetricV3\": {\"cvssV3\": {\"version\": \"3.1\",...  2024-09-23T18:15Z   \n",
       "1  {\"baseMetricV3\": {\"cvssV3\": {\"version\": \"3.1\",...  2024-09-23T18:15Z   \n",
       "\n",
       "              CWE CVSS:2.0.baseScore CVSS:2.0.exploitabilityScore  \\\n",
       "0        CWE-1188               NONE                         NONE   \n",
       "1  NVD-CWE-noinfo               NONE                         NONE   \n",
       "\n",
       "  CVSS:3.0.baseScore CVSS:3.0.exploitabilityScore CVSS:3.1.baseScore  \\\n",
       "0               NONE                         NONE                9.8   \n",
       "1               NONE                         NONE                9.8   \n",
       "\n",
       "  CVSS:3.1.exploitabilityScore CVSS:4.0.baseScore CVSS:4.0.exploitabilityScore  \n",
       "0                          3.9               NONE                         NONE  \n",
       "1                          3.9               NONE                         NONE  "
      ]
     },
     "execution_count": 254,
     "metadata": {},
     "output_type": "execute_result"
    }
   ],
   "source": [
    "df_output = pd.read_csv(\"output/nvd_data_2024.csv\")\n",
    "df_output.head(2)"
   ]
  },
  {
   "cell_type": "markdown",
   "metadata": {},
   "source": [
    "# Run script combined_cve_script.py and generate \"combined_cve_data\"\n",
    "Script will read all new feeds and combined the feeds under final_output folder. The new output only carry following columns\n",
    "CVE ID\tDescription\tCWE\tMax_Base_Score\tTechnical_Severity\n",
    "\n",
    "\n",
    "## Logic used:\n",
    "columns_to_keep = ['CVE ID', 'Description', 'CWE', 'Max_Base_Score', 'Technical_Severity']\n",
    " \n",
    " Severity logic:\n",
    " <br>IF base Score == 'NONE' : <br>\r\n",
    "            return 'NONE  ')\r\n",
    "        if score > 7:\r\n",
    "            return 'HIGH'\r\n",
    "        elif 3 <= score <= 7:\r\n",
    "            return 'M   EDIUM'\r\n",
    "        elif 0 <= sc\n",
    "                   return 'LOW'\r\n",
    "    <br>    else:\r\n",
    "   e        return 'NONE'\r\n",
    "    except:\r\n",
    "        return 'NONE'"
   ]
  },
  {
   "cell_type": "code",
   "execution_count": 257,
   "metadata": {},
   "outputs": [
    {
     "data": {
      "text/html": [
       "<div>\n",
       "<style scoped>\n",
       "    .dataframe tbody tr th:only-of-type {\n",
       "        vertical-align: middle;\n",
       "    }\n",
       "\n",
       "    .dataframe tbody tr th {\n",
       "        vertical-align: top;\n",
       "    }\n",
       "\n",
       "    .dataframe thead th {\n",
       "        text-align: right;\n",
       "    }\n",
       "</style>\n",
       "<table border=\"1\" class=\"dataframe\">\n",
       "  <thead>\n",
       "    <tr style=\"text-align: right;\">\n",
       "      <th></th>\n",
       "      <th>CVE ID</th>\n",
       "      <th>Description</th>\n",
       "      <th>CWE</th>\n",
       "      <th>Max_Base_Score</th>\n",
       "      <th>Technical_Severity</th>\n",
       "    </tr>\n",
       "  </thead>\n",
       "  <tbody>\n",
       "    <tr>\n",
       "      <th>0</th>\n",
       "      <td>CVE-1999-0001</td>\n",
       "      <td>ip_input.c in BSD-derived TCP/IP implementatio...</td>\n",
       "      <td>CWE-20</td>\n",
       "      <td>5.0</td>\n",
       "      <td>MEDIUM</td>\n",
       "    </tr>\n",
       "    <tr>\n",
       "      <th>1</th>\n",
       "      <td>CVE-1999-0002</td>\n",
       "      <td>Buffer overflow in NFS mountd gives root acces...</td>\n",
       "      <td>CWE-119</td>\n",
       "      <td>10.0</td>\n",
       "      <td>HIGH</td>\n",
       "    </tr>\n",
       "    <tr>\n",
       "      <th>2</th>\n",
       "      <td>CVE-1999-0003</td>\n",
       "      <td>Execute commands as root via buffer overflow i...</td>\n",
       "      <td>NVD-CWE-Other</td>\n",
       "      <td>10.0</td>\n",
       "      <td>HIGH</td>\n",
       "    </tr>\n",
       "    <tr>\n",
       "      <th>3</th>\n",
       "      <td>CVE-1999-0004</td>\n",
       "      <td>MIME buffer overflow in email clients, e.g. So...</td>\n",
       "      <td>NVD-CWE-Other</td>\n",
       "      <td>5.0</td>\n",
       "      <td>MEDIUM</td>\n",
       "    </tr>\n",
       "    <tr>\n",
       "      <th>4</th>\n",
       "      <td>CVE-1999-0005</td>\n",
       "      <td>Arbitrary command execution via IMAP buffer ov...</td>\n",
       "      <td>NVD-CWE-Other</td>\n",
       "      <td>10.0</td>\n",
       "      <td>HIGH</td>\n",
       "    </tr>\n",
       "    <tr>\n",
       "      <th>5</th>\n",
       "      <td>CVE-1999-0006</td>\n",
       "      <td>Buffer overflow in POP servers based on BSD/Qu...</td>\n",
       "      <td>NVD-CWE-Other</td>\n",
       "      <td>10.0</td>\n",
       "      <td>HIGH</td>\n",
       "    </tr>\n",
       "    <tr>\n",
       "      <th>6</th>\n",
       "      <td>CVE-1999-0007</td>\n",
       "      <td>Information from SSL-encrypted sessions via PK...</td>\n",
       "      <td>CWE-327</td>\n",
       "      <td>5.0</td>\n",
       "      <td>MEDIUM</td>\n",
       "    </tr>\n",
       "    <tr>\n",
       "      <th>7</th>\n",
       "      <td>CVE-1999-0008</td>\n",
       "      <td>Buffer overflow in NIS+, in Sun's rpc.nisd pro...</td>\n",
       "      <td>NVD-CWE-Other</td>\n",
       "      <td>10.0</td>\n",
       "      <td>HIGH</td>\n",
       "    </tr>\n",
       "    <tr>\n",
       "      <th>8</th>\n",
       "      <td>CVE-1999-0009</td>\n",
       "      <td>Inverse query buffer overflow in BIND 4.9 and ...</td>\n",
       "      <td>NVD-CWE-Other</td>\n",
       "      <td>10.0</td>\n",
       "      <td>HIGH</td>\n",
       "    </tr>\n",
       "    <tr>\n",
       "      <th>9</th>\n",
       "      <td>CVE-1999-0010</td>\n",
       "      <td>Denial of Service vulnerability in BIND 8 Rele...</td>\n",
       "      <td>NVD-CWE-Other</td>\n",
       "      <td>5.0</td>\n",
       "      <td>MEDIUM</td>\n",
       "    </tr>\n",
       "  </tbody>\n",
       "</table>\n",
       "</div>"
      ],
      "text/plain": [
       "          CVE ID                                        Description  \\\n",
       "0  CVE-1999-0001  ip_input.c in BSD-derived TCP/IP implementatio...   \n",
       "1  CVE-1999-0002  Buffer overflow in NFS mountd gives root acces...   \n",
       "2  CVE-1999-0003  Execute commands as root via buffer overflow i...   \n",
       "3  CVE-1999-0004  MIME buffer overflow in email clients, e.g. So...   \n",
       "4  CVE-1999-0005  Arbitrary command execution via IMAP buffer ov...   \n",
       "5  CVE-1999-0006  Buffer overflow in POP servers based on BSD/Qu...   \n",
       "6  CVE-1999-0007  Information from SSL-encrypted sessions via PK...   \n",
       "7  CVE-1999-0008  Buffer overflow in NIS+, in Sun's rpc.nisd pro...   \n",
       "8  CVE-1999-0009  Inverse query buffer overflow in BIND 4.9 and ...   \n",
       "9  CVE-1999-0010  Denial of Service vulnerability in BIND 8 Rele...   \n",
       "\n",
       "             CWE Max_Base_Score Technical_Severity  \n",
       "0         CWE-20            5.0             MEDIUM  \n",
       "1        CWE-119           10.0               HIGH  \n",
       "2  NVD-CWE-Other           10.0               HIGH  \n",
       "3  NVD-CWE-Other            5.0             MEDIUM  \n",
       "4  NVD-CWE-Other           10.0               HIGH  \n",
       "5  NVD-CWE-Other           10.0               HIGH  \n",
       "6        CWE-327            5.0             MEDIUM  \n",
       "7  NVD-CWE-Other           10.0               HIGH  \n",
       "8  NVD-CWE-Other           10.0               HIGH  \n",
       "9  NVD-CWE-Other            5.0             MEDIUM  "
      ]
     },
     "execution_count": 257,
     "metadata": {},
     "output_type": "execute_result"
    }
   ],
   "source": [
    "df = pd.read_csv(\"final_output/combined_cve_data.csv\")\n",
    "df.head(10)"
   ]
  },
  {
   "cell_type": "code",
   "execution_count": 258,
   "metadata": {},
   "outputs": [
    {
     "data": {
      "image/png": "[encoded data removed]",
      "text/plain": [
       "<Figure size 1000x600 with 1 Axes>"
      ]
     },
     "metadata": {},
     "output_type": "display_data"
    }
   ],
   "source": [
    "df = pd.read_csv('final_output/combined_cve_data.csv')\n",
    "plt.figure(figsize=(10,6))\n",
    "\n",
    "counts = df['Technical_Severity'].value_counts()\n",
    "total = len(df)\n",
    "percentages = (counts / total * 100).round(1)\n",
    "\n",
    "# Create color list - default blue, but red for highest percentage\n",
    "colors = ['#1f77b4'] * len(counts)  # Default blue for all bars\n",
    "max_pct_idx = percentages.argmax()  # Get index of highest percentage\n",
    "colors[max_pct_idx] = 'red'         # Set highest to red\n",
    "\n",
    "bars = plt.bar(counts.index, counts.values, color=colors)\n",
    "\n",
    "# Add percentage annotations above each bar\n",
    "for i, v in enumerate(percentages):\n",
    "    plt.annotate(f'{v}%', \n",
    "                xy=(i, counts[i]),\n",
    "                xytext=(0, 3),\n",
    "                textcoords=\"offset points\",\n",
    "                ha='center')\n",
    "\n",
    "plt.title('Technical Severity Distribution')\n",
    "plt.savefig('severity_distribution.png')"
   ]
  },
  {
   "cell_type": "code",
   "execution_count": 260,
   "metadata": {},
   "outputs": [
    {
     "data": {
      "text/plain": [
       "('Total records', 280139)"
      ]
     },
     "execution_count": 260,
     "metadata": {},
     "output_type": "execute_result"
    }
   ],
   "source": [
    "\"Total records\",len(df)"
   ]
  },
  {
   "cell_type": "code",
   "execution_count": 261,
   "metadata": {},
   "outputs": [
    {
     "data": {
      "text/plain": [
       "'File size: 0.09 GB'"
      ]
     },
     "execution_count": 261,
     "metadata": {},
     "output_type": "execute_result"
    }
   ],
   "source": [
    "import os\n",
    "s_bytes = os.path.getsize(\"final_output/combined_cve_data.csv\")\n",
    "f\"File size: {s_bytes/(1024*1024*1024):.2f} GB\""
   ]
  },
  {
   "cell_type": "markdown",
   "metadata": {},
   "source": [
    "# Data is imbalance\n",
    "\n",
    "### Run Script oversampling.py to balance the dataset.\n",
    "Once script complted sucessfully then a new file will be created under final_output/combined_cve_data_balanced.csv\n",
    "\n",
    "New Distribution: <b>\r",
    "<br> \n",
    "HIGH: 121134 (31.2%)<br> \r\n",
    "LOW: 112691 (29.0%<br> MEDIUM: 112691 (29.0<br> %)\r\n",
    "NONE: 42039 (10.8%)\n",
    "\n",
    "### combined_cve_data_balanced.csv\n",
    "\n"
   ]
  },
  {
   "cell_type": "code",
   "execution_count": 263,
   "metadata": {},
   "outputs": [
    {
     "data": {
      "image/png": "[encoded data removed]",
      "text/plain": [
       "<Figure size 1000x600 with 1 Axes>"
      ]
     },
     "metadata": {},
     "output_type": "display_data"
    }
   ],
   "source": [
    "df = pd.read_csv('final_output/combined_cve_data_balanced.csv', dtype='unicode')\n",
    "plt.figure(figsize=(10,6))\n",
    "counts = df['Technical_Severity'].value_counts()\n",
    "total = len(df)\n",
    "percentages = (counts / total * 100).round(1)\n",
    "\n",
    "# Create color list - default blue, but red for highest percentage\n",
    "colors = ['#1f77b4'] * len(counts)  # Default blue for all bars\n",
    "max_pct_idx = percentages.argmax()  # Get index of highest percentage\n",
    "colors[max_pct_idx] = 'red'         # Set highest to red\n",
    "\n",
    "bars = plt.bar(counts.index, counts.values, color=colors)\n",
    "\n",
    "# Add percentage annotations above each bar\n",
    "for i, v in enumerate(percentages):\n",
    "    plt.annotate(f'{v}%', \n",
    "                xy=(i, counts[i]),\n",
    "                xytext=(0, 3),\n",
    "                textcoords=\"offset points\",\n",
    "                ha='center')\n",
    "\n",
    "plt.title('Balanced DataSet - Technical Severity Distribution')\n",
    "plt.savefig('severity_distribution.png')"
   ]
  },
  {
   "cell_type": "markdown",
   "metadata": {},
   "source": [
    "## Categorization\n",
    "The dataset is balanced. For our purpose, we need to add an additional column called 'Category.' This will represent the category of the CVE. \n",
    "First tried simple keyword search by using categorized_cves.py\n",
    "\n",
    "We will use LLM calls to fill this data.\n"
   ]
  },
  {
   "cell_type": "code",
   "execution_count": 293,
   "metadata": {},
   "outputs": [
    {
     "data": {
      "text/html": [
       "<div>\n",
       "<style scoped>\n",
       "    .dataframe tbody tr th:only-of-type {\n",
       "        vertical-align: middle;\n",
       "    }\n",
       "\n",
       "    .dataframe tbody tr th {\n",
       "        vertical-align: top;\n",
       "    }\n",
       "\n",
       "    .dataframe thead th {\n",
       "        text-align: right;\n",
       "    }\n",
       "</style>\n",
       "<table border=\"1\" class=\"dataframe\">\n",
       "  <thead>\n",
       "    <tr style=\"text-align: right;\">\n",
       "      <th></th>\n",
       "      <th>CVE ID</th>\n",
       "      <th>Description</th>\n",
       "      <th>CWE</th>\n",
       "      <th>Max_Base_Score</th>\n",
       "      <th>Technical_Severity</th>\n",
       "      <th>Vulnerability_Category</th>\n",
       "    </tr>\n",
       "  </thead>\n",
       "  <tbody>\n",
       "    <tr>\n",
       "      <th>0</th>\n",
       "      <td>CVE-2005-0143</td>\n",
       "      <td>Firefox before 1.0 and Mozilla before 1.7.5 di...</td>\n",
       "      <td>NaN</td>\n",
       "      <td>2.6</td>\n",
       "      <td>LOW</td>\n",
       "      <td>Uncategorized</td>\n",
       "    </tr>\n",
       "    <tr>\n",
       "      <th>1</th>\n",
       "      <td>CVE-2020-1795</td>\n",
       "      <td>There is a logic error vulnerability in severa...</td>\n",
       "      <td>NaN</td>\n",
       "      <td>2.4</td>\n",
       "      <td>LOW</td>\n",
       "      <td>Uncategorized</td>\n",
       "    </tr>\n",
       "    <tr>\n",
       "      <th>2</th>\n",
       "      <td>CVE-2014-2432</td>\n",
       "      <td>Unspecified vulnerability Oracle the MySQL Ser...</td>\n",
       "      <td>NaN</td>\n",
       "      <td>2.8</td>\n",
       "      <td>LOW</td>\n",
       "      <td>Uncategorized</td>\n",
       "    </tr>\n",
       "    <tr>\n",
       "      <th>3</th>\n",
       "      <td>CVE-2002-1319</td>\n",
       "      <td>The Linux kernel 2.4.20 and earlier, and 2.5.x...</td>\n",
       "      <td>NaN</td>\n",
       "      <td>2.1</td>\n",
       "      <td>LOW</td>\n",
       "      <td>Uncategorized</td>\n",
       "    </tr>\n",
       "    <tr>\n",
       "      <th>4</th>\n",
       "      <td>CVE-2015-4961</td>\n",
       "      <td>IBM Tealeaf Customer Experience 8.x before 8.7...</td>\n",
       "      <td>200.0</td>\n",
       "      <td>2.9</td>\n",
       "      <td>LOW</td>\n",
       "      <td>Data Exposure</td>\n",
       "    </tr>\n",
       "  </tbody>\n",
       "</table>\n",
       "</div>"
      ],
      "text/plain": [
       "          CVE ID                                        Description    CWE  \\\n",
       "0  CVE-2005-0143  Firefox before 1.0 and Mozilla before 1.7.5 di...    NaN   \n",
       "1  CVE-2020-1795  There is a logic error vulnerability in severa...    NaN   \n",
       "2  CVE-2014-2432  Unspecified vulnerability Oracle the MySQL Ser...    NaN   \n",
       "3  CVE-2002-1319  The Linux kernel 2.4.20 and earlier, and 2.5.x...    NaN   \n",
       "4  CVE-2015-4961  IBM Tealeaf Customer Experience 8.x before 8.7...  200.0   \n",
       "\n",
       "  Max_Base_Score Technical_Severity Vulnerability_Category  \n",
       "0            2.6                LOW          Uncategorized  \n",
       "1            2.4                LOW          Uncategorized  \n",
       "2            2.8                LOW          Uncategorized  \n",
       "3            2.1                LOW          Uncategorized  \n",
       "4            2.9                LOW          Data Exposure  "
      ]
     },
     "execution_count": 293,
     "metadata": {},
     "output_type": "execute_result"
    },
    {
     "data": {
      "text/plain": [
       "<Figure size 1000x600 with 0 Axes>"
      ]
     },
     "metadata": {},
     "output_type": "display_data"
    }
   ],
   "source": [
    "df = pd.read_csv('final_output/combined_cve_data_balanced_and_categorized2.csv', dtype='unicode')\n",
    "plt.figure(figsize=(10,6))\n",
    "df.head()"
   ]
  },
  {
   "cell_type": "code",
   "execution_count": 295,
   "metadata": {},
   "outputs": [
    {
     "data": {
      "text/plain": [
       "Uncategorized                  306645\n",
       "XSS (Cross-Site Scripting)      33044\n",
       "Data Exposure                   18928\n",
       "Injection                       15232\n",
       "Access Control Issues            5887\n",
       "Authentication Issues            5227\n",
       "Cloud Security Issues            1262\n",
       "Insecure Deserialization         1008\n",
       "Network Security                  609\n",
       "Security Misconfiguration         593\n",
       "Supply Chain Attacks              119\n",
       "Using Vulnerable Components         1\n",
       "Name: Vulnerability_Category, dtype: int64"
      ]
     },
     "execution_count": 295,
     "metadata": {},
     "output_type": "execute_result"
    }
   ],
   "source": [
    "df['Vulnerability_Category'].value_counts()"
   ]
  },
  {
   "cell_type": "code",
   "execution_count": 311,
   "metadata": {},
   "outputs": [
    {
     "data": {
      "text/html": [
       "<div>\n",
       "<style scoped>\n",
       "    .dataframe tbody tr th:only-of-type {\n",
       "        vertical-align: middle;\n",
       "    }\n",
       "\n",
       "    .dataframe tbody tr th {\n",
       "        vertical-align: top;\n",
       "    }\n",
       "\n",
       "    .dataframe thead th {\n",
       "        text-align: right;\n",
       "    }\n",
       "</style>\n",
       "<table border=\"1\" class=\"dataframe\">\n",
       "  <thead>\n",
       "    <tr style=\"text-align: right;\">\n",
       "      <th></th>\n",
       "      <th>CVE ID</th>\n",
       "      <th>Description</th>\n",
       "      <th>CWE</th>\n",
       "      <th>Max_Base_Score</th>\n",
       "      <th>Technical_Severity</th>\n",
       "      <th>Vulnerability_Category</th>\n",
       "    </tr>\n",
       "  </thead>\n",
       "  <tbody>\n",
       "    <tr>\n",
       "      <th>0</th>\n",
       "      <td>CVE-2005-0143</td>\n",
       "      <td>Firefox before 1.0 and Mozilla before 1.7.5 di...</td>\n",
       "      <td>NaN</td>\n",
       "      <td>2.6</td>\n",
       "      <td>LOW</td>\n",
       "      <td>Uncategorized</td>\n",
       "    </tr>\n",
       "    <tr>\n",
       "      <th>1</th>\n",
       "      <td>CVE-2020-1795</td>\n",
       "      <td>There is a logic error vulnerability in severa...</td>\n",
       "      <td>NaN</td>\n",
       "      <td>2.4</td>\n",
       "      <td>LOW</td>\n",
       "      <td>Uncategorized</td>\n",
       "    </tr>\n",
       "    <tr>\n",
       "      <th>2</th>\n",
       "      <td>CVE-2014-2432</td>\n",
       "      <td>Unspecified vulnerability Oracle the MySQL Ser...</td>\n",
       "      <td>NaN</td>\n",
       "      <td>2.8</td>\n",
       "      <td>LOW</td>\n",
       "      <td>Uncategorized</td>\n",
       "    </tr>\n",
       "    <tr>\n",
       "      <th>3</th>\n",
       "      <td>CVE-2002-1319</td>\n",
       "      <td>The Linux kernel 2.4.20 and earlier, and 2.5.x...</td>\n",
       "      <td>NaN</td>\n",
       "      <td>2.1</td>\n",
       "      <td>LOW</td>\n",
       "      <td>Uncategorized</td>\n",
       "    </tr>\n",
       "    <tr>\n",
       "      <th>4</th>\n",
       "      <td>CVE-2015-4961</td>\n",
       "      <td>IBM Tealeaf Customer Experience 8.x before 8.7...</td>\n",
       "      <td>200.0</td>\n",
       "      <td>2.9</td>\n",
       "      <td>LOW</td>\n",
       "      <td>Data Exposure</td>\n",
       "    </tr>\n",
       "  </tbody>\n",
       "</table>\n",
       "</div>"
      ],
      "text/plain": [
       "          CVE ID                                        Description    CWE  \\\n",
       "0  CVE-2005-0143  Firefox before 1.0 and Mozilla before 1.7.5 di...    NaN   \n",
       "1  CVE-2020-1795  There is a logic error vulnerability in severa...    NaN   \n",
       "2  CVE-2014-2432  Unspecified vulnerability Oracle the MySQL Ser...    NaN   \n",
       "3  CVE-2002-1319  The Linux kernel 2.4.20 and earlier, and 2.5.x...    NaN   \n",
       "4  CVE-2015-4961  IBM Tealeaf Customer Experience 8.x before 8.7...  200.0   \n",
       "\n",
       "  Max_Base_Score Technical_Severity Vulnerability_Category  \n",
       "0            2.6                LOW          Uncategorized  \n",
       "1            2.4                LOW          Uncategorized  \n",
       "2            2.8                LOW          Uncategorized  \n",
       "3            2.1                LOW          Uncategorized  \n",
       "4            2.9                LOW          Data Exposure  "
      ]
     },
     "execution_count": 311,
     "metadata": {},
     "output_type": "execute_result"
    }
   ],
   "source": [
    "df.head()"
   ]
  },
  {
   "cell_type": "code",
   "execution_count": 325,
   "metadata": {},
   "outputs": [
    {
     "data": {
      "image/png": "[encoded data removed]",
      "text/plain": [
       "<Figure size 1200x600 with 1 Axes>"
      ]
     },
     "metadata": {},
     "output_type": "display_data"
    }
   ],
   "source": [
    "import matplotlib.pyplot as plt\n",
    "\n",
    "# Count the number of vulnerabilities in each category\n",
    "category_counts = df[\"Vulnerability_Category\"].value_counts()\n",
    "\n",
    "\n",
    "\n",
    "plt.figure(figsize=(12, 6))\n",
    "\n",
    "plt.bar(category_counts.index, category_counts.values, color=\"blue\")\n",
    "plt.xlabel(\"Vulnerability Category\")\n",
    "plt.ylabel(\"Number of Vulnerabilities\")\n",
    "plt.title(\"Distribution of Vulnerabilities by Category\")\n",
    "plt.xticks(rotation=45, ha=\"right\")  # Rotate x-axis labels for readability\n",
    "plt.grid(axis=\"y\", linestyle=\"--\", alpha=0.7)"
   ]
  },
  {
   "cell_type": "code",
   "execution_count": 331,
   "metadata": {},
   "outputs": [
    {
     "data": {
      "image/png": "[encoded data removed]",
      "text/plain": [
       "<Figure size 1000x600 with 1 Axes>"
      ]
     },
     "metadata": {},
     "output_type": "display_data"
    }
   ],
   "source": [
    "# better graph\n",
    "plt.figure(figsize=(10,6))\n",
    "category_counts = df['Vulnerability_Category'].value_counts()\n",
    "total = len(df)\n",
    "percentages = (category_counts / total * 100).round(1)\n",
    "\n",
    "colors = ['#1f77b4', '#ff7f0e', '#2ca02c', '#d62728', '#9467bd',\n",
    "         '#8c564b', '#e377c2', '#7f7f7f', '#bcbd22', '#17becf', \n",
    "         '#aec7e8', '#ffbb78']\n",
    "\n",
    "bars = plt.bar(range(len(category_counts)), category_counts.values, color=colors)\n",
    "\n",
    "# Add percentage labels on bars\n",
    "for i, bar in enumerate(bars):\n",
    "   height = bar.get_height()\n",
    "   plt.text(bar.get_x() + bar.get_width()/2., height,\n",
    "            f'{(height/total*100):.1f}%',\n",
    "            ha='center', va='bottom')\n",
    "\n",
    "plt.title('Balanced DataSet - Technical Severity Distribution')\n",
    "plt.ylabel('Count')\n",
    "plt.xticks([])\n",
    "\n",
    "# Add legend with percentages\n",
    "legend_labels = [f\"{cat} ({(count/total*100):.1f}%)\" \n",
    "               for cat, count in zip(counts.index, counts.values)]\n",
    "plt.legend(bars, legend_labels,\n",
    "         bbox_to_anchor=(1.05, 1),\n",
    "         loc='upper left')\n",
    "\n",
    "plt.tight_layout()\n",
    "plt.savefig('severity_distribution.png', bbox_inches='tight')"
   ]
  },
  {
   "cell_type": "code",
   "execution_count": 335,
   "metadata": {},
   "outputs": [
    {
     "name": "stdout",
     "output_type": "stream",
     "text": [
      "Total uncategorized entries: 306645\n",
      "Saved to: uncategorized_vulnerabilities.csv\n"
     ]
    }
   ],
   "source": [
    "# Read the existing categorized data\n",
    "df = pd.read_csv('final_output/combined_cve_data_balanced_and_categorized2.csv', dtype='unicode')\n",
    "\n",
    "# Extract uncategorized entries\n",
    "uncategorized_df = df[df['Vulnerability_Category'] == 'Uncategorized']\n",
    "\n",
    "# Save uncategorized entries to new CSV\n",
    "uncategorized_df.to_csv('final_output/uncategorized_vulnerabilities.csv', index=False)\n",
    "\n",
    "print(f\"Total uncategorized entries: {len(uncategorized_df)}\")\n",
    "print(f\"Saved to: uncategorized_vulnerabilities.csv\")\n",
    "\n",
    "# Create CSV without uncategorized entries\n",
    "categorized_df = df[df['Vulnerability_Category'] != 'Uncategorized']\n",
    "categorized_df.to_csv('final_output/categorized_vulnerabilities.csv', index=False)"
   ]
  },
  {
   "cell_type": "code",
   "execution_count": 336,
   "metadata": {},
   "outputs": [
    {
     "data": {
      "text/html": [
       "<div>\n",
       "<style scoped>\n",
       "    .dataframe tbody tr th:only-of-type {\n",
       "        vertical-align: middle;\n",
       "    }\n",
       "\n",
       "    .dataframe tbody tr th {\n",
       "        vertical-align: top;\n",
       "    }\n",
       "\n",
       "    .dataframe thead th {\n",
       "        text-align: right;\n",
       "    }\n",
       "</style>\n",
       "<table border=\"1\" class=\"dataframe\">\n",
       "  <thead>\n",
       "    <tr style=\"text-align: right;\">\n",
       "      <th></th>\n",
       "      <th>CVE ID</th>\n",
       "      <th>Description</th>\n",
       "      <th>CWE</th>\n",
       "      <th>Max_Base_Score</th>\n",
       "      <th>Technical_Severity</th>\n",
       "      <th>Vulnerability_Category</th>\n",
       "    </tr>\n",
       "  </thead>\n",
       "  <tbody>\n",
       "    <tr>\n",
       "      <th>0</th>\n",
       "      <td>CVE-2005-0143</td>\n",
       "      <td>Firefox before 1.0 and Mozilla before 1.7.5 di...</td>\n",
       "      <td>NaN</td>\n",
       "      <td>2.6</td>\n",
       "      <td>LOW</td>\n",
       "      <td>Uncategorized</td>\n",
       "    </tr>\n",
       "    <tr>\n",
       "      <th>1</th>\n",
       "      <td>CVE-2020-1795</td>\n",
       "      <td>There is a logic error vulnerability in severa...</td>\n",
       "      <td>NaN</td>\n",
       "      <td>2.4</td>\n",
       "      <td>LOW</td>\n",
       "      <td>Uncategorized</td>\n",
       "    </tr>\n",
       "    <tr>\n",
       "      <th>2</th>\n",
       "      <td>CVE-2014-2432</td>\n",
       "      <td>Unspecified vulnerability Oracle the MySQL Ser...</td>\n",
       "      <td>NaN</td>\n",
       "      <td>2.8</td>\n",
       "      <td>LOW</td>\n",
       "      <td>Uncategorized</td>\n",
       "    </tr>\n",
       "    <tr>\n",
       "      <th>3</th>\n",
       "      <td>CVE-2002-1319</td>\n",
       "      <td>The Linux kernel 2.4.20 and earlier, and 2.5.x...</td>\n",
       "      <td>NaN</td>\n",
       "      <td>2.1</td>\n",
       "      <td>LOW</td>\n",
       "      <td>Uncategorized</td>\n",
       "    </tr>\n",
       "    <tr>\n",
       "      <th>4</th>\n",
       "      <td>CVE-2014-4652</td>\n",
       "      <td>Race condition in the tlv handler functionalit...</td>\n",
       "      <td>362.0</td>\n",
       "      <td>1.9</td>\n",
       "      <td>LOW</td>\n",
       "      <td>Uncategorized</td>\n",
       "    </tr>\n",
       "  </tbody>\n",
       "</table>\n",
       "</div>"
      ],
      "text/plain": [
       "          CVE ID                                        Description    CWE  \\\n",
       "0  CVE-2005-0143  Firefox before 1.0 and Mozilla before 1.7.5 di...    NaN   \n",
       "1  CVE-2020-1795  There is a logic error vulnerability in severa...    NaN   \n",
       "2  CVE-2014-2432  Unspecified vulnerability Oracle the MySQL Ser...    NaN   \n",
       "3  CVE-2002-1319  The Linux kernel 2.4.20 and earlier, and 2.5.x...    NaN   \n",
       "4  CVE-2014-4652  Race condition in the tlv handler functionalit...  362.0   \n",
       "\n",
       "  Max_Base_Score Technical_Severity Vulnerability_Category  \n",
       "0            2.6                LOW          Uncategorized  \n",
       "1            2.4                LOW          Uncategorized  \n",
       "2            2.8                LOW          Uncategorized  \n",
       "3            2.1                LOW          Uncategorized  \n",
       "4            1.9                LOW          Uncategorized  "
      ]
     },
     "execution_count": 336,
     "metadata": {},
     "output_type": "execute_result"
    }
   ],
   "source": [
    "# Read the existing uncategorized_vulnerabilities data\n",
    "df = pd.read_csv('final_output/uncategorized_vulnerabilities.csv', dtype='unicode')\n",
    "df.head()"
   ]
  },
  {
   "cell_type": "code",
   "execution_count": 343,
   "metadata": {},
   "outputs": [
    {
     "data": {
      "image/png": "[encoded data removed]",
      "text/plain": [
       "<Figure size 1000x600 with 1 Axes>"
      ]
     },
     "metadata": {},
     "output_type": "display_data"
    }
   ],
   "source": [
    "plt.figure(figsize=(10,6))\n",
    "\n",
    "# Calculate counts and percentages\n",
    "Technical_Severity_counts = df['Technical_Severity'].value_counts()\n",
    "total = len(df)\n",
    "percentages = (Technical_Severity_counts / total * 100).round(1)\n",
    "\n",
    "# Create bars\n",
    "bars = plt.bar(Technical_Severity_counts.index, Technical_Severity_counts.values)\n",
    "\n",
    "# Add percentage labels in middle of bars\n",
    "for bar in bars:\n",
    "    height = bar.get_height()\n",
    "    plt.text(bar.get_x() + bar.get_width()/2., height/2,  # Changed to height/2\n",
    "             f'{height/total*100:.1f}%',\n",
    "             ha='center', va='center')  # Changed to 'center'\n",
    "\n",
    "plt.title('Balanced DataSet - Uncategorized Technical Severity Distribution')\n",
    "plt.savefig('severity_distribution.png')"
   ]
  },
  {
   "cell_type": "code",
   "execution_count": 345,
   "metadata": {},
   "outputs": [
    {
     "data": {
      "text/html": [
       "<div>\n",
       "<style scoped>\n",
       "    .dataframe tbody tr th:only-of-type {\n",
       "        vertical-align: middle;\n",
       "    }\n",
       "\n",
       "    .dataframe tbody tr th {\n",
       "        vertical-align: top;\n",
       "    }\n",
       "\n",
       "    .dataframe thead th {\n",
       "        text-align: right;\n",
       "    }\n",
       "</style>\n",
       "<table border=\"1\" class=\"dataframe\">\n",
       "  <thead>\n",
       "    <tr style=\"text-align: right;\">\n",
       "      <th></th>\n",
       "      <th>CVE ID</th>\n",
       "      <th>Description</th>\n",
       "      <th>CWE</th>\n",
       "      <th>Max_Base_Score</th>\n",
       "      <th>Technical_Severity</th>\n",
       "      <th>Vulnerability_Category</th>\n",
       "    </tr>\n",
       "  </thead>\n",
       "  <tbody>\n",
       "    <tr>\n",
       "      <th>0</th>\n",
       "      <td>CVE-2005-0143</td>\n",
       "      <td>Firefox before 1.0 and Mozilla before 1.7.5 di...</td>\n",
       "      <td>NaN</td>\n",
       "      <td>2.6</td>\n",
       "      <td>LOW</td>\n",
       "      <td>Uncategorized</td>\n",
       "    </tr>\n",
       "    <tr>\n",
       "      <th>1</th>\n",
       "      <td>CVE-2020-1795</td>\n",
       "      <td>There is a logic error vulnerability in severa...</td>\n",
       "      <td>NaN</td>\n",
       "      <td>2.4</td>\n",
       "      <td>LOW</td>\n",
       "      <td>Uncategorized</td>\n",
       "    </tr>\n",
       "    <tr>\n",
       "      <th>2</th>\n",
       "      <td>CVE-2014-2432</td>\n",
       "      <td>Unspecified vulnerability Oracle the MySQL Ser...</td>\n",
       "      <td>NaN</td>\n",
       "      <td>2.8</td>\n",
       "      <td>LOW</td>\n",
       "      <td>Uncategorized</td>\n",
       "    </tr>\n",
       "    <tr>\n",
       "      <th>3</th>\n",
       "      <td>CVE-2002-1319</td>\n",
       "      <td>The Linux kernel 2.4.20 and earlier, and 2.5.x...</td>\n",
       "      <td>NaN</td>\n",
       "      <td>2.1</td>\n",
       "      <td>LOW</td>\n",
       "      <td>Uncategorized</td>\n",
       "    </tr>\n",
       "    <tr>\n",
       "      <th>4</th>\n",
       "      <td>CVE-2014-4652</td>\n",
       "      <td>Race condition in the tlv handler functionalit...</td>\n",
       "      <td>362.0</td>\n",
       "      <td>1.9</td>\n",
       "      <td>LOW</td>\n",
       "      <td>Uncategorized</td>\n",
       "    </tr>\n",
       "  </tbody>\n",
       "</table>\n",
       "</div>"
      ],
      "text/plain": [
       "          CVE ID                                        Description    CWE  \\\n",
       "0  CVE-2005-0143  Firefox before 1.0 and Mozilla before 1.7.5 di...    NaN   \n",
       "1  CVE-2020-1795  There is a logic error vulnerability in severa...    NaN   \n",
       "2  CVE-2014-2432  Unspecified vulnerability Oracle the MySQL Ser...    NaN   \n",
       "3  CVE-2002-1319  The Linux kernel 2.4.20 and earlier, and 2.5.x...    NaN   \n",
       "4  CVE-2014-4652  Race condition in the tlv handler functionalit...  362.0   \n",
       "\n",
       "  Max_Base_Score Technical_Severity Vulnerability_Category  \n",
       "0            2.6                LOW          Uncategorized  \n",
       "1            2.4                LOW          Uncategorized  \n",
       "2            2.8                LOW          Uncategorized  \n",
       "3            2.1                LOW          Uncategorized  \n",
       "4            1.9                LOW          Uncategorized  "
      ]
     },
     "execution_count": 345,
     "metadata": {},
     "output_type": "execute_result"
    }
   ],
   "source": [
    "df.head()"
   ]
  },
  {
   "cell_type": "code",
   "execution_count": null,
   "metadata": {},
   "outputs": [],
   "source": []
  }
 ],
 "metadata": {
  "colab": {
   "provenance": []
  },
  "kernelspec": {
   "display_name": "Python 3 (ipykernel)",
   "language": "python",
   "name": "python3"
  },
  "language_info": {
   "codemirror_mode": {
    "name": "ipython",
    "version": 3
   },
   "file_extension": ".py",
   "mimetype": "text/x-python",
   "name": "python",
   "nbconvert_exporter": "python",
   "pygments_lexer": "ipython3",
   "version": "3.11.7"
  }
 },
 "nbformat": 4,
 "nbformat_minor": 4
}
